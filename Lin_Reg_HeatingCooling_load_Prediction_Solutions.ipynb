{
  "nbformat": 4,
  "nbformat_minor": 0,
  "metadata": {
    "kernelspec": {
      "display_name": "Python 3",
      "language": "python",
      "name": "python3"
    },
    "language_info": {
      "codemirror_mode": {
        "name": "ipython",
        "version": 3
      },
      "file_extension": ".py",
      "mimetype": "text/x-python",
      "name": "python",
      "nbconvert_exporter": "python",
      "pygments_lexer": "ipython3",
      "version": "3.7.3"
    },
    "colab": {
      "name": "Lin Reg_HeatingCooling_load_Prediction_Solutions.ipynb",
      "provenance": []
    }
  },
  "cells": [
    {
      "cell_type": "markdown",
      "metadata": {
        "id": "GshZ0gSq_OjE"
      },
      "source": [
        "<b>Regression Task</b><br>\n",
        "Use the given dataset and perform the following:-\n",
        "<ol>\n",
        "<li> Read the 'heat_load.xlsx' dataset.</li>\n",
        "<li> Rename the columns as per the given features</li> \n",
        "<li> Remove/handle null values if any</li>    \n",
        "<li> Considering all the features as independent features (except heating and cooling load) Split the dataset into training and test dataset with test_size = 25%</li>\n",
        "<li> Predict the Heating load based on features from X1 to X8 and also calculate\n",
        "the model score. Also find the intercept and the coefficients corresponding to\n",
        "each of these features. Generate equation of Linear regression</li>\n",
        "<li>Predict the Cooling load based on features from X1 to X8 and also calculate\n",
        "the model score. Also find the intercept and the coefficients corresponding \n",
        "to each of these features. Generate equation of Linear regression</li>\n",
        "<li> Compute MSE, MAE, RMSE for two scenarios(5 and 6)</li> \n",
        "<li>Select appropriate independent features based on Correlation matrix</li>\n",
        "<li>Repeat Q5 and Q7 for heating load after the original dataset has been split into training and testing dataset with test_size=25% with appropriate independent features selected from correlation matrix</li>\n",
        "<li>Repeat Q6 and Q7 for cooling load after the original dataset has been split into training and testing dataset with test_size=25% with appropriate independent features selected from correlation matrix</li>   \n",
        "</ol>"
      ]
    },
    {
      "cell_type": "code",
      "metadata": {
        "id": "ZkmV8CQ3_OjI"
      },
      "source": [
        "import pandas as pd\n",
        "import numpy as np\n",
        "import matplotlib.pyplot as plt\n",
        "import seaborn as sns"
      ],
      "execution_count": null,
      "outputs": []
    },
    {
      "cell_type": "code",
      "metadata": {
        "id": "QvHsd8SM_OjJ",
        "outputId": "f95a850f-a978-4ee2-bcb0-5d58d3f5d7c8"
      },
      "source": [
        "df = pd.read_excel('heat_load.xlsx')\n",
        "df.head()"
      ],
      "execution_count": null,
      "outputs": [
        {
          "data": {
            "text/html": [
              "<div>\n",
              "<style scoped>\n",
              "    .dataframe tbody tr th:only-of-type {\n",
              "        vertical-align: middle;\n",
              "    }\n",
              "\n",
              "    .dataframe tbody tr th {\n",
              "        vertical-align: top;\n",
              "    }\n",
              "\n",
              "    .dataframe thead th {\n",
              "        text-align: right;\n",
              "    }\n",
              "</style>\n",
              "<table border=\"1\" class=\"dataframe\">\n",
              "  <thead>\n",
              "    <tr style=\"text-align: right;\">\n",
              "      <th></th>\n",
              "      <th>X1</th>\n",
              "      <th>X2</th>\n",
              "      <th>X3</th>\n",
              "      <th>X4</th>\n",
              "      <th>X5</th>\n",
              "      <th>X6</th>\n",
              "      <th>X7</th>\n",
              "      <th>X8</th>\n",
              "      <th>Y1</th>\n",
              "      <th>Y2</th>\n",
              "    </tr>\n",
              "  </thead>\n",
              "  <tbody>\n",
              "    <tr>\n",
              "      <th>0</th>\n",
              "      <td>0.98</td>\n",
              "      <td>514.5</td>\n",
              "      <td>294.0</td>\n",
              "      <td>110.25</td>\n",
              "      <td>7.0</td>\n",
              "      <td>2</td>\n",
              "      <td>0.0</td>\n",
              "      <td>0</td>\n",
              "      <td>15.55</td>\n",
              "      <td>21.33</td>\n",
              "    </tr>\n",
              "    <tr>\n",
              "      <th>1</th>\n",
              "      <td>0.98</td>\n",
              "      <td>514.5</td>\n",
              "      <td>294.0</td>\n",
              "      <td>110.25</td>\n",
              "      <td>7.0</td>\n",
              "      <td>3</td>\n",
              "      <td>0.0</td>\n",
              "      <td>0</td>\n",
              "      <td>15.55</td>\n",
              "      <td>21.33</td>\n",
              "    </tr>\n",
              "    <tr>\n",
              "      <th>2</th>\n",
              "      <td>0.98</td>\n",
              "      <td>514.5</td>\n",
              "      <td>294.0</td>\n",
              "      <td>110.25</td>\n",
              "      <td>7.0</td>\n",
              "      <td>4</td>\n",
              "      <td>0.0</td>\n",
              "      <td>0</td>\n",
              "      <td>15.55</td>\n",
              "      <td>21.33</td>\n",
              "    </tr>\n",
              "    <tr>\n",
              "      <th>3</th>\n",
              "      <td>0.98</td>\n",
              "      <td>514.5</td>\n",
              "      <td>294.0</td>\n",
              "      <td>110.25</td>\n",
              "      <td>7.0</td>\n",
              "      <td>5</td>\n",
              "      <td>0.0</td>\n",
              "      <td>0</td>\n",
              "      <td>15.55</td>\n",
              "      <td>21.33</td>\n",
              "    </tr>\n",
              "    <tr>\n",
              "      <th>4</th>\n",
              "      <td>0.90</td>\n",
              "      <td>563.5</td>\n",
              "      <td>318.5</td>\n",
              "      <td>122.50</td>\n",
              "      <td>7.0</td>\n",
              "      <td>2</td>\n",
              "      <td>0.0</td>\n",
              "      <td>0</td>\n",
              "      <td>20.84</td>\n",
              "      <td>28.28</td>\n",
              "    </tr>\n",
              "  </tbody>\n",
              "</table>\n",
              "</div>"
            ],
            "text/plain": [
              "     X1     X2     X3      X4   X5  X6   X7  X8     Y1     Y2\n",
              "0  0.98  514.5  294.0  110.25  7.0   2  0.0   0  15.55  21.33\n",
              "1  0.98  514.5  294.0  110.25  7.0   3  0.0   0  15.55  21.33\n",
              "2  0.98  514.5  294.0  110.25  7.0   4  0.0   0  15.55  21.33\n",
              "3  0.98  514.5  294.0  110.25  7.0   5  0.0   0  15.55  21.33\n",
              "4  0.90  563.5  318.5  122.50  7.0   2  0.0   0  20.84  28.28"
            ]
          },
          "execution_count": 2,
          "metadata": {},
          "output_type": "execute_result"
        }
      ]
    },
    {
      "cell_type": "code",
      "metadata": {
        "id": "FrXxAQyD_OjK",
        "outputId": "09f9ec6f-1cdc-441e-d481-e1b11b707cba"
      },
      "source": [
        "\"\"\"\n",
        "X1 - Relative Compactness\n",
        "X2 - Surface Area\n",
        "X3 - Wall Area\n",
        "X4 - Roof Area\n",
        "X5 - Overall Height\n",
        "X6 - Orientation\n",
        "X7 - Glazing Area\n",
        "X8 - Glazing Area Distrbution\n",
        "Y1 - Heating Load\n",
        "Y2 - Cooling Load\n",
        "\n",
        "\n",
        "\"\"\""
      ],
      "execution_count": null,
      "outputs": [
        {
          "data": {
            "text/plain": [
              "'\\nX1 - Relative Compactness\\nX2 - Surface Area\\nX3 - Wall Area\\nX4 - Roof Area\\nX5 - Overall Height\\nX6 - Orientation\\nX7 - Glazing Area\\nX8 - Glazing Area Distrbution\\nY1 - Heating Load\\nY2 - Cooling Load\\n\\n\\n'"
            ]
          },
          "execution_count": 3,
          "metadata": {},
          "output_type": "execute_result"
        }
      ]
    },
    {
      "cell_type": "code",
      "metadata": {
        "id": "cVWKBTSA_OjL",
        "outputId": "45724257-ce21-4a6b-ab62-45b9f926226f"
      },
      "source": [
        "df.columns= ['compact','s_area','w_area','r_area','height','orient',\n",
        "             'g_area','g_area_dist','heat_load','cool_load']\n",
        "df.head()"
      ],
      "execution_count": null,
      "outputs": [
        {
          "data": {
            "text/html": [
              "<div>\n",
              "<style scoped>\n",
              "    .dataframe tbody tr th:only-of-type {\n",
              "        vertical-align: middle;\n",
              "    }\n",
              "\n",
              "    .dataframe tbody tr th {\n",
              "        vertical-align: top;\n",
              "    }\n",
              "\n",
              "    .dataframe thead th {\n",
              "        text-align: right;\n",
              "    }\n",
              "</style>\n",
              "<table border=\"1\" class=\"dataframe\">\n",
              "  <thead>\n",
              "    <tr style=\"text-align: right;\">\n",
              "      <th></th>\n",
              "      <th>compact</th>\n",
              "      <th>s_area</th>\n",
              "      <th>w_area</th>\n",
              "      <th>r_area</th>\n",
              "      <th>height</th>\n",
              "      <th>orient</th>\n",
              "      <th>g_area</th>\n",
              "      <th>g_area_dist</th>\n",
              "      <th>heat_load</th>\n",
              "      <th>cool_load</th>\n",
              "    </tr>\n",
              "  </thead>\n",
              "  <tbody>\n",
              "    <tr>\n",
              "      <th>0</th>\n",
              "      <td>0.98</td>\n",
              "      <td>514.5</td>\n",
              "      <td>294.0</td>\n",
              "      <td>110.25</td>\n",
              "      <td>7.0</td>\n",
              "      <td>2</td>\n",
              "      <td>0.0</td>\n",
              "      <td>0</td>\n",
              "      <td>15.55</td>\n",
              "      <td>21.33</td>\n",
              "    </tr>\n",
              "    <tr>\n",
              "      <th>1</th>\n",
              "      <td>0.98</td>\n",
              "      <td>514.5</td>\n",
              "      <td>294.0</td>\n",
              "      <td>110.25</td>\n",
              "      <td>7.0</td>\n",
              "      <td>3</td>\n",
              "      <td>0.0</td>\n",
              "      <td>0</td>\n",
              "      <td>15.55</td>\n",
              "      <td>21.33</td>\n",
              "    </tr>\n",
              "    <tr>\n",
              "      <th>2</th>\n",
              "      <td>0.98</td>\n",
              "      <td>514.5</td>\n",
              "      <td>294.0</td>\n",
              "      <td>110.25</td>\n",
              "      <td>7.0</td>\n",
              "      <td>4</td>\n",
              "      <td>0.0</td>\n",
              "      <td>0</td>\n",
              "      <td>15.55</td>\n",
              "      <td>21.33</td>\n",
              "    </tr>\n",
              "    <tr>\n",
              "      <th>3</th>\n",
              "      <td>0.98</td>\n",
              "      <td>514.5</td>\n",
              "      <td>294.0</td>\n",
              "      <td>110.25</td>\n",
              "      <td>7.0</td>\n",
              "      <td>5</td>\n",
              "      <td>0.0</td>\n",
              "      <td>0</td>\n",
              "      <td>15.55</td>\n",
              "      <td>21.33</td>\n",
              "    </tr>\n",
              "    <tr>\n",
              "      <th>4</th>\n",
              "      <td>0.90</td>\n",
              "      <td>563.5</td>\n",
              "      <td>318.5</td>\n",
              "      <td>122.50</td>\n",
              "      <td>7.0</td>\n",
              "      <td>2</td>\n",
              "      <td>0.0</td>\n",
              "      <td>0</td>\n",
              "      <td>20.84</td>\n",
              "      <td>28.28</td>\n",
              "    </tr>\n",
              "  </tbody>\n",
              "</table>\n",
              "</div>"
            ],
            "text/plain": [
              "   compact  s_area  w_area  r_area  height  orient  g_area  g_area_dist  \\\n",
              "0     0.98   514.5   294.0  110.25     7.0       2     0.0            0   \n",
              "1     0.98   514.5   294.0  110.25     7.0       3     0.0            0   \n",
              "2     0.98   514.5   294.0  110.25     7.0       4     0.0            0   \n",
              "3     0.98   514.5   294.0  110.25     7.0       5     0.0            0   \n",
              "4     0.90   563.5   318.5  122.50     7.0       2     0.0            0   \n",
              "\n",
              "   heat_load  cool_load  \n",
              "0      15.55      21.33  \n",
              "1      15.55      21.33  \n",
              "2      15.55      21.33  \n",
              "3      15.55      21.33  \n",
              "4      20.84      28.28  "
            ]
          },
          "execution_count": 4,
          "metadata": {},
          "output_type": "execute_result"
        }
      ]
    },
    {
      "cell_type": "code",
      "metadata": {
        "id": "_PdVwGx-_OjM",
        "outputId": "a1ed1ee1-2ecc-4bfa-9d1d-5474367235d5"
      },
      "source": [
        "df.shape"
      ],
      "execution_count": null,
      "outputs": [
        {
          "data": {
            "text/plain": [
              "(768, 10)"
            ]
          },
          "execution_count": 5,
          "metadata": {},
          "output_type": "execute_result"
        }
      ]
    },
    {
      "cell_type": "code",
      "metadata": {
        "id": "JAuDhHgr_OjN",
        "outputId": "94d77e68-bb3f-4b49-a4b4-f9812b1eb6c0"
      },
      "source": [
        "df.isnull().sum()"
      ],
      "execution_count": null,
      "outputs": [
        {
          "data": {
            "text/plain": [
              "compact        0\n",
              "s_area         0\n",
              "w_area         0\n",
              "r_area         0\n",
              "height         0\n",
              "orient         0\n",
              "g_area         0\n",
              "g_area_dist    0\n",
              "heat_load      0\n",
              "cool_load      0\n",
              "dtype: int64"
            ]
          },
          "execution_count": 6,
          "metadata": {},
          "output_type": "execute_result"
        }
      ]
    },
    {
      "cell_type": "code",
      "metadata": {
        "id": "8KR2bM6f_OjO",
        "outputId": "82e0741c-1312-4c65-fb33-5e4772a65207"
      },
      "source": [
        "df.head(2)"
      ],
      "execution_count": null,
      "outputs": [
        {
          "data": {
            "text/html": [
              "<div>\n",
              "<style scoped>\n",
              "    .dataframe tbody tr th:only-of-type {\n",
              "        vertical-align: middle;\n",
              "    }\n",
              "\n",
              "    .dataframe tbody tr th {\n",
              "        vertical-align: top;\n",
              "    }\n",
              "\n",
              "    .dataframe thead th {\n",
              "        text-align: right;\n",
              "    }\n",
              "</style>\n",
              "<table border=\"1\" class=\"dataframe\">\n",
              "  <thead>\n",
              "    <tr style=\"text-align: right;\">\n",
              "      <th></th>\n",
              "      <th>compact</th>\n",
              "      <th>s_area</th>\n",
              "      <th>w_area</th>\n",
              "      <th>r_area</th>\n",
              "      <th>height</th>\n",
              "      <th>orient</th>\n",
              "      <th>g_area</th>\n",
              "      <th>g_area_dist</th>\n",
              "      <th>heat_load</th>\n",
              "      <th>cool_load</th>\n",
              "    </tr>\n",
              "  </thead>\n",
              "  <tbody>\n",
              "    <tr>\n",
              "      <th>0</th>\n",
              "      <td>0.98</td>\n",
              "      <td>514.5</td>\n",
              "      <td>294.0</td>\n",
              "      <td>110.25</td>\n",
              "      <td>7.0</td>\n",
              "      <td>2</td>\n",
              "      <td>0.0</td>\n",
              "      <td>0</td>\n",
              "      <td>15.55</td>\n",
              "      <td>21.33</td>\n",
              "    </tr>\n",
              "    <tr>\n",
              "      <th>1</th>\n",
              "      <td>0.98</td>\n",
              "      <td>514.5</td>\n",
              "      <td>294.0</td>\n",
              "      <td>110.25</td>\n",
              "      <td>7.0</td>\n",
              "      <td>3</td>\n",
              "      <td>0.0</td>\n",
              "      <td>0</td>\n",
              "      <td>15.55</td>\n",
              "      <td>21.33</td>\n",
              "    </tr>\n",
              "  </tbody>\n",
              "</table>\n",
              "</div>"
            ],
            "text/plain": [
              "   compact  s_area  w_area  r_area  height  orient  g_area  g_area_dist  \\\n",
              "0     0.98   514.5   294.0  110.25     7.0       2     0.0            0   \n",
              "1     0.98   514.5   294.0  110.25     7.0       3     0.0            0   \n",
              "\n",
              "   heat_load  cool_load  \n",
              "0      15.55      21.33  \n",
              "1      15.55      21.33  "
            ]
          },
          "execution_count": 7,
          "metadata": {},
          "output_type": "execute_result"
        }
      ]
    },
    {
      "cell_type": "markdown",
      "metadata": {
        "id": "mztEwrXT_OjP"
      },
      "source": [
        "### Prediction of Heating Load"
      ]
    },
    {
      "cell_type": "code",
      "metadata": {
        "id": "C0NDXfls_OjQ",
        "outputId": "c09aaa1d-2957-4c8c-e334-9b2604171cef"
      },
      "source": [
        "x = df.iloc[:,:-2] # X1-X8\n",
        "y = df.iloc[:,-2]  # heating load\n",
        "print(x.shape)\n",
        "print(y.shape)"
      ],
      "execution_count": null,
      "outputs": [
        {
          "name": "stdout",
          "output_type": "stream",
          "text": [
            "(768, 8)\n",
            "(768,)\n"
          ]
        }
      ]
    },
    {
      "cell_type": "code",
      "metadata": {
        "id": "rd1KpL2x_OjQ"
      },
      "source": [
        "from sklearn.model_selection import train_test_split\n",
        "x_train,x_test,y_train,y_test = train_test_split(x,y,test_size=0.25)"
      ],
      "execution_count": null,
      "outputs": []
    },
    {
      "cell_type": "code",
      "metadata": {
        "id": "6bgToOMt_OjR",
        "outputId": "f3cdecec-b4ed-4ff6-daf5-42c8743c4aac"
      },
      "source": [
        "print(x_train.shape)\n",
        "print(x_test.shape)\n",
        "print(y_train.shape)\n",
        "print(y_test.shape)"
      ],
      "execution_count": null,
      "outputs": [
        {
          "name": "stdout",
          "output_type": "stream",
          "text": [
            "(576, 8)\n",
            "(192, 8)\n",
            "(576,)\n",
            "(192,)\n"
          ]
        }
      ]
    },
    {
      "cell_type": "code",
      "metadata": {
        "id": "Ps4jpHqa_OjR"
      },
      "source": [
        "from sklearn.linear_model import LinearRegression"
      ],
      "execution_count": null,
      "outputs": []
    },
    {
      "cell_type": "code",
      "metadata": {
        "id": "bMV8dyAQ_OjS",
        "outputId": "771748f3-7599-41dc-c161-ecb11f3f6e8b"
      },
      "source": [
        "reg = LinearRegression()\n",
        "reg.fit(x_train,y_train)"
      ],
      "execution_count": null,
      "outputs": [
        {
          "data": {
            "text/plain": [
              "LinearRegression()"
            ]
          },
          "execution_count": 12,
          "metadata": {},
          "output_type": "execute_result"
        }
      ]
    },
    {
      "cell_type": "code",
      "metadata": {
        "id": "zbUWLFPh_OjU",
        "outputId": "1b100bff-c07a-43ce-8f67-066a64809988"
      },
      "source": [
        "reg.score(x_train,y_train)"
      ],
      "execution_count": null,
      "outputs": [
        {
          "data": {
            "text/plain": [
              "0.9179948432596498"
            ]
          },
          "execution_count": 13,
          "metadata": {},
          "output_type": "execute_result"
        }
      ]
    },
    {
      "cell_type": "code",
      "metadata": {
        "id": "WOjPBstm_OjV",
        "outputId": "cd944fb5-0cfc-407c-f1ba-7c0c9697ce6a"
      },
      "source": [
        "reg.score(x_test,y_test)"
      ],
      "execution_count": null,
      "outputs": [
        {
          "data": {
            "text/plain": [
              "0.90955065084125"
            ]
          },
          "execution_count": 14,
          "metadata": {},
          "output_type": "execute_result"
        }
      ]
    },
    {
      "cell_type": "code",
      "metadata": {
        "id": "PStA8O8l_OjV",
        "outputId": "ac79d4fe-e49f-467c-a501-4ccaedc174f7"
      },
      "source": [
        "y_pred = reg.predict(x_test)\n",
        "len(y_test)"
      ],
      "execution_count": null,
      "outputs": [
        {
          "data": {
            "text/plain": [
              "192"
            ]
          },
          "execution_count": 15,
          "metadata": {},
          "output_type": "execute_result"
        }
      ]
    },
    {
      "cell_type": "code",
      "metadata": {
        "id": "oAsrcre1_OjV",
        "outputId": "9bdc55fe-bf8a-47a6-dd58-184193e76322"
      },
      "source": [
        "reg.coef_"
      ],
      "execution_count": null,
      "outputs": [
        {
          "data": {
            "text/plain": [
              "array([-6.39361840e+01,  5.78749541e+10, -5.78749541e+10, -1.15749908e+11,\n",
              "        4.19577563e+00, -5.93708083e-03,  1.91078568e+01,  2.06867015e-01])"
            ]
          },
          "execution_count": 16,
          "metadata": {},
          "output_type": "execute_result"
        }
      ]
    },
    {
      "cell_type": "code",
      "metadata": {
        "id": "PNhVJLqF_OjW",
        "outputId": "17c59207-dae7-40f4-be0c-46e97fbd3e9d"
      },
      "source": [
        "reg.intercept_"
      ],
      "execution_count": null,
      "outputs": [
        {
          "data": {
            "text/plain": [
              "83.04353310243103"
            ]
          },
          "execution_count": 17,
          "metadata": {},
          "output_type": "execute_result"
        }
      ]
    },
    {
      "cell_type": "code",
      "metadata": {
        "id": "0h2_BZIt_OjW"
      },
      "source": [
        "# df2 = pd.DataFrame({'y_orig':y_test,'y_pred':y_pred})\n",
        "# df2.head(10)"
      ],
      "execution_count": null,
      "outputs": []
    },
    {
      "cell_type": "code",
      "metadata": {
        "id": "iHIY5t73_OjX",
        "outputId": "c0e5c107-b499-40b2-efd9-e821a5f040b4"
      },
      "source": [
        "df.columns"
      ],
      "execution_count": null,
      "outputs": [
        {
          "data": {
            "text/plain": [
              "Index(['compact', 's_area', 'w_area', 'r_area', 'height', 'orient', 'g_area',\n",
              "       'g_area_dist', 'heat_load', 'cool_load'],\n",
              "      dtype='object')"
            ]
          },
          "execution_count": 19,
          "metadata": {},
          "output_type": "execute_result"
        }
      ]
    },
    {
      "cell_type": "code",
      "metadata": {
        "id": "0J54cqxL_OjY",
        "outputId": "7a7fdf03-e7f4-4b72-c495-0b9349bc07de"
      },
      "source": [
        "x_test['y_true'] = y_test\n",
        "x_test['y_pred'] = y_pred\n",
        "x_test.head()"
      ],
      "execution_count": null,
      "outputs": [
        {
          "name": "stderr",
          "output_type": "stream",
          "text": [
            "E:\\Users\\lenovo\\Anaconda3\\lib\\site-packages\\ipykernel_launcher.py:1: SettingWithCopyWarning: \n",
            "A value is trying to be set on a copy of a slice from a DataFrame.\n",
            "Try using .loc[row_indexer,col_indexer] = value instead\n",
            "\n",
            "See the caveats in the documentation: https://pandas.pydata.org/pandas-docs/stable/user_guide/indexing.html#returning-a-view-versus-a-copy\n",
            "  \"\"\"Entry point for launching an IPython kernel.\n",
            "E:\\Users\\lenovo\\Anaconda3\\lib\\site-packages\\ipykernel_launcher.py:2: SettingWithCopyWarning: \n",
            "A value is trying to be set on a copy of a slice from a DataFrame.\n",
            "Try using .loc[row_indexer,col_indexer] = value instead\n",
            "\n",
            "See the caveats in the documentation: https://pandas.pydata.org/pandas-docs/stable/user_guide/indexing.html#returning-a-view-versus-a-copy\n",
            "  \n"
          ]
        },
        {
          "data": {
            "text/html": [
              "<div>\n",
              "<style scoped>\n",
              "    .dataframe tbody tr th:only-of-type {\n",
              "        vertical-align: middle;\n",
              "    }\n",
              "\n",
              "    .dataframe tbody tr th {\n",
              "        vertical-align: top;\n",
              "    }\n",
              "\n",
              "    .dataframe thead th {\n",
              "        text-align: right;\n",
              "    }\n",
              "</style>\n",
              "<table border=\"1\" class=\"dataframe\">\n",
              "  <thead>\n",
              "    <tr style=\"text-align: right;\">\n",
              "      <th></th>\n",
              "      <th>compact</th>\n",
              "      <th>s_area</th>\n",
              "      <th>w_area</th>\n",
              "      <th>r_area</th>\n",
              "      <th>height</th>\n",
              "      <th>orient</th>\n",
              "      <th>g_area</th>\n",
              "      <th>g_area_dist</th>\n",
              "      <th>y_true</th>\n",
              "      <th>y_pred</th>\n",
              "    </tr>\n",
              "  </thead>\n",
              "  <tbody>\n",
              "    <tr>\n",
              "      <th>539</th>\n",
              "      <td>0.86</td>\n",
              "      <td>588.0</td>\n",
              "      <td>294.0</td>\n",
              "      <td>147.00</td>\n",
              "      <td>7.0</td>\n",
              "      <td>5</td>\n",
              "      <td>0.40</td>\n",
              "      <td>1</td>\n",
              "      <td>31.29</td>\n",
              "      <td>32.089756</td>\n",
              "    </tr>\n",
              "    <tr>\n",
              "      <th>416</th>\n",
              "      <td>0.69</td>\n",
              "      <td>735.0</td>\n",
              "      <td>294.0</td>\n",
              "      <td>220.50</td>\n",
              "      <td>3.5</td>\n",
              "      <td>2</td>\n",
              "      <td>0.25</td>\n",
              "      <td>3</td>\n",
              "      <td>12.34</td>\n",
              "      <td>13.188658</td>\n",
              "    </tr>\n",
              "    <tr>\n",
              "      <th>116</th>\n",
              "      <td>0.76</td>\n",
              "      <td>661.5</td>\n",
              "      <td>416.5</td>\n",
              "      <td>122.50</td>\n",
              "      <td>7.0</td>\n",
              "      <td>2</td>\n",
              "      <td>0.10</td>\n",
              "      <td>2</td>\n",
              "      <td>33.16</td>\n",
              "      <td>33.914108</td>\n",
              "    </tr>\n",
              "    <tr>\n",
              "      <th>242</th>\n",
              "      <td>0.98</td>\n",
              "      <td>514.5</td>\n",
              "      <td>294.0</td>\n",
              "      <td>110.25</td>\n",
              "      <td>7.0</td>\n",
              "      <td>4</td>\n",
              "      <td>0.10</td>\n",
              "      <td>5</td>\n",
              "      <td>24.03</td>\n",
              "      <td>25.843147</td>\n",
              "    </tr>\n",
              "    <tr>\n",
              "      <th>226</th>\n",
              "      <td>0.69</td>\n",
              "      <td>735.0</td>\n",
              "      <td>294.0</td>\n",
              "      <td>220.50</td>\n",
              "      <td>3.5</td>\n",
              "      <td>4</td>\n",
              "      <td>0.10</td>\n",
              "      <td>4</td>\n",
              "      <td>11.07</td>\n",
              "      <td>10.517472</td>\n",
              "    </tr>\n",
              "  </tbody>\n",
              "</table>\n",
              "</div>"
            ],
            "text/plain": [
              "     compact  s_area  w_area  r_area  height  orient  g_area  g_area_dist  \\\n",
              "539     0.86   588.0   294.0  147.00     7.0       5    0.40            1   \n",
              "416     0.69   735.0   294.0  220.50     3.5       2    0.25            3   \n",
              "116     0.76   661.5   416.5  122.50     7.0       2    0.10            2   \n",
              "242     0.98   514.5   294.0  110.25     7.0       4    0.10            5   \n",
              "226     0.69   735.0   294.0  220.50     3.5       4    0.10            4   \n",
              "\n",
              "     y_true     y_pred  \n",
              "539   31.29  32.089756  \n",
              "416   12.34  13.188658  \n",
              "116   33.16  33.914108  \n",
              "242   24.03  25.843147  \n",
              "226   11.07  10.517472  "
            ]
          },
          "execution_count": 20,
          "metadata": {},
          "output_type": "execute_result"
        }
      ]
    },
    {
      "cell_type": "code",
      "metadata": {
        "id": "tgl-ImbE_OjY",
        "outputId": "4255ade1-0b95-4af3-ca45-592de0e0ab7c"
      },
      "source": [
        "### Eqn \n",
        "x_test['HeatLoad_pred_eqn'] = x_test['compact']*reg.coef_[0] + \\\n",
        "                x_test['s_area']*reg.coef_[1] + \\\n",
        "                x_test['w_area']*reg.coef_[2] + x_test['r_area']*reg.coef_[3] + \\\n",
        "                x_test['height']*reg.coef_[4] + x_test['orient']*reg.coef_[5] + \\\n",
        "                x_test['g_area']*reg.coef_[6] + x_test['g_area_dist']*reg.coef_[7] +\\\n",
        "                reg.intercept_\n",
        "x_test.head()"
      ],
      "execution_count": null,
      "outputs": [
        {
          "name": "stderr",
          "output_type": "stream",
          "text": [
            "E:\\Users\\lenovo\\Anaconda3\\lib\\site-packages\\ipykernel_launcher.py:7: SettingWithCopyWarning: \n",
            "A value is trying to be set on a copy of a slice from a DataFrame.\n",
            "Try using .loc[row_indexer,col_indexer] = value instead\n",
            "\n",
            "See the caveats in the documentation: https://pandas.pydata.org/pandas-docs/stable/user_guide/indexing.html#returning-a-view-versus-a-copy\n",
            "  import sys\n"
          ]
        },
        {
          "data": {
            "text/html": [
              "<div>\n",
              "<style scoped>\n",
              "    .dataframe tbody tr th:only-of-type {\n",
              "        vertical-align: middle;\n",
              "    }\n",
              "\n",
              "    .dataframe tbody tr th {\n",
              "        vertical-align: top;\n",
              "    }\n",
              "\n",
              "    .dataframe thead th {\n",
              "        text-align: right;\n",
              "    }\n",
              "</style>\n",
              "<table border=\"1\" class=\"dataframe\">\n",
              "  <thead>\n",
              "    <tr style=\"text-align: right;\">\n",
              "      <th></th>\n",
              "      <th>compact</th>\n",
              "      <th>s_area</th>\n",
              "      <th>w_area</th>\n",
              "      <th>r_area</th>\n",
              "      <th>height</th>\n",
              "      <th>orient</th>\n",
              "      <th>g_area</th>\n",
              "      <th>g_area_dist</th>\n",
              "      <th>y_true</th>\n",
              "      <th>y_pred</th>\n",
              "      <th>HeatLoad_pred_eqn</th>\n",
              "    </tr>\n",
              "  </thead>\n",
              "  <tbody>\n",
              "    <tr>\n",
              "      <th>539</th>\n",
              "      <td>0.86</td>\n",
              "      <td>588.0</td>\n",
              "      <td>294.0</td>\n",
              "      <td>147.00</td>\n",
              "      <td>7.0</td>\n",
              "      <td>5</td>\n",
              "      <td>0.40</td>\n",
              "      <td>1</td>\n",
              "      <td>31.29</td>\n",
              "      <td>32.089756</td>\n",
              "      <td>32.089756</td>\n",
              "    </tr>\n",
              "    <tr>\n",
              "      <th>416</th>\n",
              "      <td>0.69</td>\n",
              "      <td>735.0</td>\n",
              "      <td>294.0</td>\n",
              "      <td>220.50</td>\n",
              "      <td>3.5</td>\n",
              "      <td>2</td>\n",
              "      <td>0.25</td>\n",
              "      <td>3</td>\n",
              "      <td>12.34</td>\n",
              "      <td>13.188658</td>\n",
              "      <td>13.188658</td>\n",
              "    </tr>\n",
              "    <tr>\n",
              "      <th>116</th>\n",
              "      <td>0.76</td>\n",
              "      <td>661.5</td>\n",
              "      <td>416.5</td>\n",
              "      <td>122.50</td>\n",
              "      <td>7.0</td>\n",
              "      <td>2</td>\n",
              "      <td>0.10</td>\n",
              "      <td>2</td>\n",
              "      <td>33.16</td>\n",
              "      <td>33.914108</td>\n",
              "      <td>33.912155</td>\n",
              "    </tr>\n",
              "    <tr>\n",
              "      <th>242</th>\n",
              "      <td>0.98</td>\n",
              "      <td>514.5</td>\n",
              "      <td>294.0</td>\n",
              "      <td>110.25</td>\n",
              "      <td>7.0</td>\n",
              "      <td>4</td>\n",
              "      <td>0.10</td>\n",
              "      <td>5</td>\n",
              "      <td>24.03</td>\n",
              "      <td>25.843147</td>\n",
              "      <td>25.843147</td>\n",
              "    </tr>\n",
              "    <tr>\n",
              "      <th>226</th>\n",
              "      <td>0.69</td>\n",
              "      <td>735.0</td>\n",
              "      <td>294.0</td>\n",
              "      <td>220.50</td>\n",
              "      <td>3.5</td>\n",
              "      <td>4</td>\n",
              "      <td>0.10</td>\n",
              "      <td>4</td>\n",
              "      <td>11.07</td>\n",
              "      <td>10.517472</td>\n",
              "      <td>10.517472</td>\n",
              "    </tr>\n",
              "  </tbody>\n",
              "</table>\n",
              "</div>"
            ],
            "text/plain": [
              "     compact  s_area  w_area  r_area  height  orient  g_area  g_area_dist  \\\n",
              "539     0.86   588.0   294.0  147.00     7.0       5    0.40            1   \n",
              "416     0.69   735.0   294.0  220.50     3.5       2    0.25            3   \n",
              "116     0.76   661.5   416.5  122.50     7.0       2    0.10            2   \n",
              "242     0.98   514.5   294.0  110.25     7.0       4    0.10            5   \n",
              "226     0.69   735.0   294.0  220.50     3.5       4    0.10            4   \n",
              "\n",
              "     y_true     y_pred  HeatLoad_pred_eqn  \n",
              "539   31.29  32.089756          32.089756  \n",
              "416   12.34  13.188658          13.188658  \n",
              "116   33.16  33.914108          33.912155  \n",
              "242   24.03  25.843147          25.843147  \n",
              "226   11.07  10.517472          10.517472  "
            ]
          },
          "execution_count": 22,
          "metadata": {},
          "output_type": "execute_result"
        }
      ]
    },
    {
      "cell_type": "code",
      "metadata": {
        "id": "GIcZfyBQ_OjZ"
      },
      "source": [
        "# df2['SSE'] = (df2['y_orig'] - df2['y_pred'])**2\n",
        "# df2.head()"
      ],
      "execution_count": null,
      "outputs": []
    },
    {
      "cell_type": "code",
      "metadata": {
        "id": "3xlmjbsF_OjZ"
      },
      "source": [
        "# print(df2.sum())\n",
        "# print('-----------')\n",
        "# print(df2.sum()/192)"
      ],
      "execution_count": null,
      "outputs": []
    },
    {
      "cell_type": "code",
      "metadata": {
        "id": "We57yxJ8_OjZ"
      },
      "source": [
        "from sklearn.metrics import mean_squared_error, mean_absolute_error"
      ],
      "execution_count": null,
      "outputs": []
    },
    {
      "cell_type": "code",
      "metadata": {
        "id": "r6s1oUd3_OjZ",
        "outputId": "0a75c048-fa19-4cc7-f224-0e72d10f6f90"
      },
      "source": [
        "mse = mean_squared_error(y_test,y_pred)\n",
        "mae = mean_absolute_error(y_test,y_pred)\n",
        "rmse = mse**0.5\n",
        "print('MSE',mse)\n",
        "print('MAE',mae)\n",
        "print('RMSE',rmse)"
      ],
      "execution_count": null,
      "outputs": [
        {
          "name": "stdout",
          "output_type": "stream",
          "text": [
            "MSE 9.908146240017183\n",
            "MAE 2.2415832086530614\n",
            "RMSE 3.1477208008362467\n"
          ]
        }
      ]
    },
    {
      "cell_type": "code",
      "metadata": {
        "id": "nJGDgwew_Oja"
      },
      "source": [
        ""
      ],
      "execution_count": null,
      "outputs": []
    },
    {
      "cell_type": "markdown",
      "metadata": {
        "id": "teDN_gXd_Oja"
      },
      "source": [
        "### Prediction of Cooling Load"
      ]
    },
    {
      "cell_type": "code",
      "metadata": {
        "id": "9zBbxB5U_Oja",
        "outputId": "0678e289-5217-4a79-9929-10e6b5063fad"
      },
      "source": [
        "x1 = df.iloc[:,:-2] # X1-X8\n",
        "y1 = df.iloc[:,-1] # cooling load\n",
        "print(x1.shape)\n",
        "print(y1.shape)"
      ],
      "execution_count": null,
      "outputs": [
        {
          "name": "stdout",
          "output_type": "stream",
          "text": [
            "(768, 8)\n",
            "(768,)\n"
          ]
        }
      ]
    },
    {
      "cell_type": "code",
      "metadata": {
        "id": "6_5g5LjY_Ojb"
      },
      "source": [
        "from sklearn.model_selection import train_test_split\n",
        "x_train,x_test,y_train,y_test = train_test_split(x1,y1,test_size=0.25)"
      ],
      "execution_count": null,
      "outputs": []
    },
    {
      "cell_type": "code",
      "metadata": {
        "id": "3-KM4eJr_Ojb",
        "outputId": "2e5d567f-4048-4e4d-b509-4c7fcdfcd0c2"
      },
      "source": [
        "print(x_train.shape)\n",
        "print(x_test.shape)\n",
        "print(y_train.shape)\n",
        "print(y_test.shape)"
      ],
      "execution_count": null,
      "outputs": [
        {
          "name": "stdout",
          "output_type": "stream",
          "text": [
            "(576, 8)\n",
            "(192, 8)\n",
            "(576,)\n",
            "(192,)\n"
          ]
        }
      ]
    },
    {
      "cell_type": "code",
      "metadata": {
        "id": "Lu7s-2nj_Ojb"
      },
      "source": [
        "from sklearn.linear_model import LinearRegression"
      ],
      "execution_count": null,
      "outputs": []
    },
    {
      "cell_type": "code",
      "metadata": {
        "id": "vBx8Ye-9_Ojb",
        "outputId": "1f8825fd-43a9-40dd-da28-aa1906601f8a"
      },
      "source": [
        "reg1 = LinearRegression()\n",
        "reg1.fit(x_train,y_train)"
      ],
      "execution_count": null,
      "outputs": [
        {
          "data": {
            "text/plain": [
              "LinearRegression()"
            ]
          },
          "execution_count": 33,
          "metadata": {},
          "output_type": "execute_result"
        }
      ]
    },
    {
      "cell_type": "code",
      "metadata": {
        "id": "GZq0FPo5_Ojc",
        "outputId": "901998b4-373b-4697-8007-8555beef11d7"
      },
      "source": [
        "reg1.score(x_train,y_train)"
      ],
      "execution_count": null,
      "outputs": [
        {
          "data": {
            "text/plain": [
              "0.8854269821567536"
            ]
          },
          "execution_count": 34,
          "metadata": {},
          "output_type": "execute_result"
        }
      ]
    },
    {
      "cell_type": "code",
      "metadata": {
        "id": "8hxXh4Hb_Ojc",
        "outputId": "82a77524-b663-4a68-cd88-f83581f2b4f8"
      },
      "source": [
        "reg1.score(x_test,y_test)"
      ],
      "execution_count": null,
      "outputs": [
        {
          "data": {
            "text/plain": [
              "0.890740243398294"
            ]
          },
          "execution_count": 35,
          "metadata": {},
          "output_type": "execute_result"
        }
      ]
    },
    {
      "cell_type": "code",
      "metadata": {
        "id": "FybTYdZb_Ojc",
        "outputId": "dbca6e4e-f615-4557-92db-8fadd7070f70"
      },
      "source": [
        "y_pred = reg1.predict(x_test)\n",
        "len(y_test)"
      ],
      "execution_count": null,
      "outputs": [
        {
          "data": {
            "text/plain": [
              "192"
            ]
          },
          "execution_count": 36,
          "metadata": {},
          "output_type": "execute_result"
        }
      ]
    },
    {
      "cell_type": "code",
      "metadata": {
        "id": "8Ke9fuqr_Ojc",
        "outputId": "2de65dff-84ca-4972-fb8b-18f916885810"
      },
      "source": [
        "print(type(y_pred))\n",
        "y_pred[:5]"
      ],
      "execution_count": null,
      "outputs": [
        {
          "name": "stdout",
          "output_type": "stream",
          "text": [
            "<class 'numpy.ndarray'>\n"
          ]
        },
        {
          "data": {
            "text/plain": [
              "array([33.49000429, 14.71138807, 15.36863765, 15.19389325, 13.36808874])"
            ]
          },
          "execution_count": 37,
          "metadata": {},
          "output_type": "execute_result"
        }
      ]
    },
    {
      "cell_type": "code",
      "metadata": {
        "id": "cZsuFo1H_Ojd",
        "outputId": "7b566e91-d517-41eb-aee5-a78319755c41"
      },
      "source": [
        "reg1.coef_"
      ],
      "execution_count": null,
      "outputs": [
        {
          "data": {
            "text/plain": [
              "array([-6.64071755e+01, -2.03645205e+11,  2.03645205e+11,  4.07290411e+11,\n",
              "        4.38537335e+00,  8.73722024e-02,  1.54268864e+01,  7.61413798e-02])"
            ]
          },
          "execution_count": 38,
          "metadata": {},
          "output_type": "execute_result"
        }
      ]
    },
    {
      "cell_type": "code",
      "metadata": {
        "id": "sDmmYxkb_Ojd",
        "outputId": "be525da4-15ed-43d1-a553-7f3c4d4b3252"
      },
      "source": [
        "reg1.intercept_"
      ],
      "execution_count": null,
      "outputs": [
        {
          "data": {
            "text/plain": [
              "89.07110432568801"
            ]
          },
          "execution_count": 39,
          "metadata": {},
          "output_type": "execute_result"
        }
      ]
    },
    {
      "cell_type": "code",
      "metadata": {
        "id": "U7dnNGoP_Ojd"
      },
      "source": [
        "# df3 = pd.DataFrame({'y_orig':y_test,'y_pred':y_pred})\n",
        "# df3.head(10)"
      ],
      "execution_count": null,
      "outputs": []
    },
    {
      "cell_type": "code",
      "metadata": {
        "id": "OgfaNOPW_Ojd",
        "outputId": "57ed6b08-64ff-429a-fb5b-3e8bf11ee9a8"
      },
      "source": [
        "x_test['y_true'] = y_test\n",
        "x_test['y_pred'] = y_pred\n",
        "x_test.head()"
      ],
      "execution_count": null,
      "outputs": [
        {
          "name": "stderr",
          "output_type": "stream",
          "text": [
            "E:\\Users\\lenovo\\Anaconda3\\lib\\site-packages\\ipykernel_launcher.py:1: SettingWithCopyWarning: \n",
            "A value is trying to be set on a copy of a slice from a DataFrame.\n",
            "Try using .loc[row_indexer,col_indexer] = value instead\n",
            "\n",
            "See the caveats in the documentation: https://pandas.pydata.org/pandas-docs/stable/user_guide/indexing.html#returning-a-view-versus-a-copy\n",
            "  \"\"\"Entry point for launching an IPython kernel.\n",
            "E:\\Users\\lenovo\\Anaconda3\\lib\\site-packages\\ipykernel_launcher.py:2: SettingWithCopyWarning: \n",
            "A value is trying to be set on a copy of a slice from a DataFrame.\n",
            "Try using .loc[row_indexer,col_indexer] = value instead\n",
            "\n",
            "See the caveats in the documentation: https://pandas.pydata.org/pandas-docs/stable/user_guide/indexing.html#returning-a-view-versus-a-copy\n",
            "  \n"
          ]
        },
        {
          "data": {
            "text/html": [
              "<div>\n",
              "<style scoped>\n",
              "    .dataframe tbody tr th:only-of-type {\n",
              "        vertical-align: middle;\n",
              "    }\n",
              "\n",
              "    .dataframe tbody tr th {\n",
              "        vertical-align: top;\n",
              "    }\n",
              "\n",
              "    .dataframe thead th {\n",
              "        text-align: right;\n",
              "    }\n",
              "</style>\n",
              "<table border=\"1\" class=\"dataframe\">\n",
              "  <thead>\n",
              "    <tr style=\"text-align: right;\">\n",
              "      <th></th>\n",
              "      <th>compact</th>\n",
              "      <th>s_area</th>\n",
              "      <th>w_area</th>\n",
              "      <th>r_area</th>\n",
              "      <th>height</th>\n",
              "      <th>orient</th>\n",
              "      <th>g_area</th>\n",
              "      <th>g_area_dist</th>\n",
              "      <th>y_true</th>\n",
              "      <th>y_pred</th>\n",
              "    </tr>\n",
              "  </thead>\n",
              "  <tbody>\n",
              "    <tr>\n",
              "      <th>303</th>\n",
              "      <td>0.82</td>\n",
              "      <td>612.5</td>\n",
              "      <td>318.5</td>\n",
              "      <td>147.0</td>\n",
              "      <td>7.0</td>\n",
              "      <td>5</td>\n",
              "      <td>0.25</td>\n",
              "      <td>1</td>\n",
              "      <td>31.39</td>\n",
              "      <td>33.490004</td>\n",
              "    </tr>\n",
              "    <tr>\n",
              "      <th>507</th>\n",
              "      <td>0.74</td>\n",
              "      <td>686.0</td>\n",
              "      <td>245.0</td>\n",
              "      <td>220.5</td>\n",
              "      <td>3.5</td>\n",
              "      <td>5</td>\n",
              "      <td>0.25</td>\n",
              "      <td>5</td>\n",
              "      <td>14.03</td>\n",
              "      <td>14.711388</td>\n",
              "    </tr>\n",
              "    <tr>\n",
              "      <th>190</th>\n",
              "      <td>0.62</td>\n",
              "      <td>808.5</td>\n",
              "      <td>367.5</td>\n",
              "      <td>220.5</td>\n",
              "      <td>3.5</td>\n",
              "      <td>4</td>\n",
              "      <td>0.10</td>\n",
              "      <td>3</td>\n",
              "      <td>14.14</td>\n",
              "      <td>15.368638</td>\n",
              "    </tr>\n",
              "    <tr>\n",
              "      <th>188</th>\n",
              "      <td>0.62</td>\n",
              "      <td>808.5</td>\n",
              "      <td>367.5</td>\n",
              "      <td>220.5</td>\n",
              "      <td>3.5</td>\n",
              "      <td>2</td>\n",
              "      <td>0.10</td>\n",
              "      <td>3</td>\n",
              "      <td>14.09</td>\n",
              "      <td>15.193893</td>\n",
              "    </tr>\n",
              "    <tr>\n",
              "      <th>223</th>\n",
              "      <td>0.71</td>\n",
              "      <td>710.5</td>\n",
              "      <td>269.5</td>\n",
              "      <td>220.5</td>\n",
              "      <td>3.5</td>\n",
              "      <td>5</td>\n",
              "      <td>0.10</td>\n",
              "      <td>4</td>\n",
              "      <td>14.20</td>\n",
              "      <td>13.368089</td>\n",
              "    </tr>\n",
              "  </tbody>\n",
              "</table>\n",
              "</div>"
            ],
            "text/plain": [
              "     compact  s_area  w_area  r_area  height  orient  g_area  g_area_dist  \\\n",
              "303     0.82   612.5   318.5   147.0     7.0       5    0.25            1   \n",
              "507     0.74   686.0   245.0   220.5     3.5       5    0.25            5   \n",
              "190     0.62   808.5   367.5   220.5     3.5       4    0.10            3   \n",
              "188     0.62   808.5   367.5   220.5     3.5       2    0.10            3   \n",
              "223     0.71   710.5   269.5   220.5     3.5       5    0.10            4   \n",
              "\n",
              "     y_true     y_pred  \n",
              "303   31.39  33.490004  \n",
              "507   14.03  14.711388  \n",
              "190   14.14  15.368638  \n",
              "188   14.09  15.193893  \n",
              "223   14.20  13.368089  "
            ]
          },
          "execution_count": 41,
          "metadata": {},
          "output_type": "execute_result"
        }
      ]
    },
    {
      "cell_type": "code",
      "metadata": {
        "id": "7Zig59EV_Oje",
        "outputId": "fa055f02-26b0-4cba-8783-d6a29fd7d4bf"
      },
      "source": [
        "### Eqn \n",
        "x_test['CoolLoad_pred_eqn'] = x_test['compact']*reg1.coef_[0] + \\\n",
        "                x_test['s_area']*reg1.coef_[1] + \\\n",
        "                x_test['w_area']*reg1.coef_[2] + x_test['r_area']*reg1.coef_[3] + \\\n",
        "                x_test['height']*reg1.coef_[4] + x_test['orient']*reg1.coef_[5] + \\\n",
        "                x_test['g_area']*reg1.coef_[6] + x_test['g_area_dist']*reg1.coef_[7] +\\\n",
        "                reg1.intercept_\n",
        "x_test.head()"
      ],
      "execution_count": null,
      "outputs": [
        {
          "name": "stderr",
          "output_type": "stream",
          "text": [
            "E:\\Users\\lenovo\\Anaconda3\\lib\\site-packages\\ipykernel_launcher.py:7: SettingWithCopyWarning: \n",
            "A value is trying to be set on a copy of a slice from a DataFrame.\n",
            "Try using .loc[row_indexer,col_indexer] = value instead\n",
            "\n",
            "See the caveats in the documentation: https://pandas.pydata.org/pandas-docs/stable/user_guide/indexing.html#returning-a-view-versus-a-copy\n",
            "  import sys\n"
          ]
        },
        {
          "data": {
            "text/html": [
              "<div>\n",
              "<style scoped>\n",
              "    .dataframe tbody tr th:only-of-type {\n",
              "        vertical-align: middle;\n",
              "    }\n",
              "\n",
              "    .dataframe tbody tr th {\n",
              "        vertical-align: top;\n",
              "    }\n",
              "\n",
              "    .dataframe thead th {\n",
              "        text-align: right;\n",
              "    }\n",
              "</style>\n",
              "<table border=\"1\" class=\"dataframe\">\n",
              "  <thead>\n",
              "    <tr style=\"text-align: right;\">\n",
              "      <th></th>\n",
              "      <th>compact</th>\n",
              "      <th>s_area</th>\n",
              "      <th>w_area</th>\n",
              "      <th>r_area</th>\n",
              "      <th>height</th>\n",
              "      <th>orient</th>\n",
              "      <th>g_area</th>\n",
              "      <th>g_area_dist</th>\n",
              "      <th>y_true</th>\n",
              "      <th>y_pred</th>\n",
              "      <th>CoolLoad_pred_eqn</th>\n",
              "    </tr>\n",
              "  </thead>\n",
              "  <tbody>\n",
              "    <tr>\n",
              "      <th>303</th>\n",
              "      <td>0.82</td>\n",
              "      <td>612.5</td>\n",
              "      <td>318.5</td>\n",
              "      <td>147.0</td>\n",
              "      <td>7.0</td>\n",
              "      <td>5</td>\n",
              "      <td>0.25</td>\n",
              "      <td>1</td>\n",
              "      <td>31.39</td>\n",
              "      <td>33.490004</td>\n",
              "      <td>33.497817</td>\n",
              "    </tr>\n",
              "    <tr>\n",
              "      <th>507</th>\n",
              "      <td>0.74</td>\n",
              "      <td>686.0</td>\n",
              "      <td>245.0</td>\n",
              "      <td>220.5</td>\n",
              "      <td>3.5</td>\n",
              "      <td>5</td>\n",
              "      <td>0.25</td>\n",
              "      <td>5</td>\n",
              "      <td>14.03</td>\n",
              "      <td>14.711388</td>\n",
              "      <td>14.719201</td>\n",
              "    </tr>\n",
              "    <tr>\n",
              "      <th>190</th>\n",
              "      <td>0.62</td>\n",
              "      <td>808.5</td>\n",
              "      <td>367.5</td>\n",
              "      <td>220.5</td>\n",
              "      <td>3.5</td>\n",
              "      <td>4</td>\n",
              "      <td>0.10</td>\n",
              "      <td>3</td>\n",
              "      <td>14.14</td>\n",
              "      <td>15.368638</td>\n",
              "      <td>15.353013</td>\n",
              "    </tr>\n",
              "    <tr>\n",
              "      <th>188</th>\n",
              "      <td>0.62</td>\n",
              "      <td>808.5</td>\n",
              "      <td>367.5</td>\n",
              "      <td>220.5</td>\n",
              "      <td>3.5</td>\n",
              "      <td>2</td>\n",
              "      <td>0.10</td>\n",
              "      <td>3</td>\n",
              "      <td>14.09</td>\n",
              "      <td>15.193893</td>\n",
              "      <td>15.178268</td>\n",
              "    </tr>\n",
              "    <tr>\n",
              "      <th>223</th>\n",
              "      <td>0.71</td>\n",
              "      <td>710.5</td>\n",
              "      <td>269.5</td>\n",
              "      <td>220.5</td>\n",
              "      <td>3.5</td>\n",
              "      <td>5</td>\n",
              "      <td>0.10</td>\n",
              "      <td>4</td>\n",
              "      <td>14.20</td>\n",
              "      <td>13.368089</td>\n",
              "      <td>13.375901</td>\n",
              "    </tr>\n",
              "  </tbody>\n",
              "</table>\n",
              "</div>"
            ],
            "text/plain": [
              "     compact  s_area  w_area  r_area  height  orient  g_area  g_area_dist  \\\n",
              "303     0.82   612.5   318.5   147.0     7.0       5    0.25            1   \n",
              "507     0.74   686.0   245.0   220.5     3.5       5    0.25            5   \n",
              "190     0.62   808.5   367.5   220.5     3.5       4    0.10            3   \n",
              "188     0.62   808.5   367.5   220.5     3.5       2    0.10            3   \n",
              "223     0.71   710.5   269.5   220.5     3.5       5    0.10            4   \n",
              "\n",
              "     y_true     y_pred  CoolLoad_pred_eqn  \n",
              "303   31.39  33.490004          33.497817  \n",
              "507   14.03  14.711388          14.719201  \n",
              "190   14.14  15.368638          15.353013  \n",
              "188   14.09  15.193893          15.178268  \n",
              "223   14.20  13.368089          13.375901  "
            ]
          },
          "execution_count": 43,
          "metadata": {},
          "output_type": "execute_result"
        }
      ]
    },
    {
      "cell_type": "code",
      "metadata": {
        "id": "dlY7rXyt_Oje"
      },
      "source": [
        "# df3['SSE'] = (df3['y_orig'] - df3['y_pred'])**2\n",
        "# df3.head()"
      ],
      "execution_count": null,
      "outputs": []
    },
    {
      "cell_type": "code",
      "metadata": {
        "id": "59JxbM0S_Oje"
      },
      "source": [
        "# df3.sum()"
      ],
      "execution_count": null,
      "outputs": []
    },
    {
      "cell_type": "code",
      "metadata": {
        "id": "fW2QSTbz_Oje",
        "outputId": "03388642-46a1-4e86-fa45-0768ab1ff6e6"
      },
      "source": [
        "mse = mean_squared_error(y_test,y_pred)\n",
        "mae = mean_absolute_error(y_test,y_pred)\n",
        "rmse = mse**0.5\n",
        "print('MSE',mse)\n",
        "print('MAE',mae)\n",
        "print('RMSE',rmse)"
      ],
      "execution_count": null,
      "outputs": [
        {
          "name": "stdout",
          "output_type": "stream",
          "text": [
            "MSE 9.740073221134088\n",
            "MAE 2.175515486655336\n",
            "RMSE 3.1209090376257502\n"
          ]
        }
      ]
    },
    {
      "cell_type": "markdown",
      "metadata": {
        "id": "kIbm2U1k_Oje"
      },
      "source": [
        "### Feature Selection based on Correlation"
      ]
    },
    {
      "cell_type": "markdown",
      "metadata": {
        "id": "hcH-VkNJ_Ojf"
      },
      "source": [
        "#### Predicting heating load"
      ]
    },
    {
      "cell_type": "code",
      "metadata": {
        "id": "wUxwXY47_Ojf",
        "outputId": "4c4a3efb-9d55-4ee5-8d07-8f545116fd38"
      },
      "source": [
        "df.corr()"
      ],
      "execution_count": null,
      "outputs": [
        {
          "data": {
            "text/html": [
              "<div>\n",
              "<style scoped>\n",
              "    .dataframe tbody tr th:only-of-type {\n",
              "        vertical-align: middle;\n",
              "    }\n",
              "\n",
              "    .dataframe tbody tr th {\n",
              "        vertical-align: top;\n",
              "    }\n",
              "\n",
              "    .dataframe thead th {\n",
              "        text-align: right;\n",
              "    }\n",
              "</style>\n",
              "<table border=\"1\" class=\"dataframe\">\n",
              "  <thead>\n",
              "    <tr style=\"text-align: right;\">\n",
              "      <th></th>\n",
              "      <th>compact</th>\n",
              "      <th>s_area</th>\n",
              "      <th>w_area</th>\n",
              "      <th>r_area</th>\n",
              "      <th>height</th>\n",
              "      <th>orient</th>\n",
              "      <th>g_area</th>\n",
              "      <th>g_area_dist</th>\n",
              "      <th>heat_load</th>\n",
              "      <th>cool_load</th>\n",
              "    </tr>\n",
              "  </thead>\n",
              "  <tbody>\n",
              "    <tr>\n",
              "      <th>compact</th>\n",
              "      <td>1.000000e+00</td>\n",
              "      <td>-9.919015e-01</td>\n",
              "      <td>-2.037817e-01</td>\n",
              "      <td>-8.688234e-01</td>\n",
              "      <td>8.277473e-01</td>\n",
              "      <td>0.000000</td>\n",
              "      <td>1.283986e-17</td>\n",
              "      <td>1.764620e-17</td>\n",
              "      <td>0.622272</td>\n",
              "      <td>0.634339</td>\n",
              "    </tr>\n",
              "    <tr>\n",
              "      <th>s_area</th>\n",
              "      <td>-9.919015e-01</td>\n",
              "      <td>1.000000e+00</td>\n",
              "      <td>1.955016e-01</td>\n",
              "      <td>8.807195e-01</td>\n",
              "      <td>-8.581477e-01</td>\n",
              "      <td>0.000000</td>\n",
              "      <td>1.318356e-16</td>\n",
              "      <td>-3.558613e-16</td>\n",
              "      <td>-0.658120</td>\n",
              "      <td>-0.672999</td>\n",
              "    </tr>\n",
              "    <tr>\n",
              "      <th>w_area</th>\n",
              "      <td>-2.037817e-01</td>\n",
              "      <td>1.955016e-01</td>\n",
              "      <td>1.000000e+00</td>\n",
              "      <td>-2.923165e-01</td>\n",
              "      <td>2.809757e-01</td>\n",
              "      <td>0.000000</td>\n",
              "      <td>-7.969726e-19</td>\n",
              "      <td>0.000000e+00</td>\n",
              "      <td>0.455671</td>\n",
              "      <td>0.427117</td>\n",
              "    </tr>\n",
              "    <tr>\n",
              "      <th>r_area</th>\n",
              "      <td>-8.688234e-01</td>\n",
              "      <td>8.807195e-01</td>\n",
              "      <td>-2.923165e-01</td>\n",
              "      <td>1.000000e+00</td>\n",
              "      <td>-9.725122e-01</td>\n",
              "      <td>0.000000</td>\n",
              "      <td>-1.381805e-16</td>\n",
              "      <td>-1.079129e-16</td>\n",
              "      <td>-0.861828</td>\n",
              "      <td>-0.862547</td>\n",
              "    </tr>\n",
              "    <tr>\n",
              "      <th>height</th>\n",
              "      <td>8.277473e-01</td>\n",
              "      <td>-8.581477e-01</td>\n",
              "      <td>2.809757e-01</td>\n",
              "      <td>-9.725122e-01</td>\n",
              "      <td>1.000000e+00</td>\n",
              "      <td>0.000000</td>\n",
              "      <td>1.861418e-18</td>\n",
              "      <td>0.000000e+00</td>\n",
              "      <td>0.889430</td>\n",
              "      <td>0.895785</td>\n",
              "    </tr>\n",
              "    <tr>\n",
              "      <th>orient</th>\n",
              "      <td>0.000000e+00</td>\n",
              "      <td>0.000000e+00</td>\n",
              "      <td>0.000000e+00</td>\n",
              "      <td>0.000000e+00</td>\n",
              "      <td>0.000000e+00</td>\n",
              "      <td>1.000000</td>\n",
              "      <td>0.000000e+00</td>\n",
              "      <td>0.000000e+00</td>\n",
              "      <td>-0.002587</td>\n",
              "      <td>0.014290</td>\n",
              "    </tr>\n",
              "    <tr>\n",
              "      <th>g_area</th>\n",
              "      <td>1.283986e-17</td>\n",
              "      <td>1.318356e-16</td>\n",
              "      <td>-7.969726e-19</td>\n",
              "      <td>-1.381805e-16</td>\n",
              "      <td>1.861418e-18</td>\n",
              "      <td>0.000000</td>\n",
              "      <td>1.000000e+00</td>\n",
              "      <td>2.129642e-01</td>\n",
              "      <td>0.269842</td>\n",
              "      <td>0.207505</td>\n",
              "    </tr>\n",
              "    <tr>\n",
              "      <th>g_area_dist</th>\n",
              "      <td>1.764620e-17</td>\n",
              "      <td>-3.558613e-16</td>\n",
              "      <td>0.000000e+00</td>\n",
              "      <td>-1.079129e-16</td>\n",
              "      <td>0.000000e+00</td>\n",
              "      <td>0.000000</td>\n",
              "      <td>2.129642e-01</td>\n",
              "      <td>1.000000e+00</td>\n",
              "      <td>0.087368</td>\n",
              "      <td>0.050525</td>\n",
              "    </tr>\n",
              "    <tr>\n",
              "      <th>heat_load</th>\n",
              "      <td>6.222719e-01</td>\n",
              "      <td>-6.581199e-01</td>\n",
              "      <td>4.556714e-01</td>\n",
              "      <td>-8.618281e-01</td>\n",
              "      <td>8.894305e-01</td>\n",
              "      <td>-0.002587</td>\n",
              "      <td>2.698417e-01</td>\n",
              "      <td>8.736846e-02</td>\n",
              "      <td>1.000000</td>\n",
              "      <td>0.975862</td>\n",
              "    </tr>\n",
              "    <tr>\n",
              "      <th>cool_load</th>\n",
              "      <td>6.343391e-01</td>\n",
              "      <td>-6.729989e-01</td>\n",
              "      <td>4.271170e-01</td>\n",
              "      <td>-8.625466e-01</td>\n",
              "      <td>8.957852e-01</td>\n",
              "      <td>0.014290</td>\n",
              "      <td>2.075050e-01</td>\n",
              "      <td>5.052512e-02</td>\n",
              "      <td>0.975862</td>\n",
              "      <td>1.000000</td>\n",
              "    </tr>\n",
              "  </tbody>\n",
              "</table>\n",
              "</div>"
            ],
            "text/plain": [
              "                  compact        s_area        w_area        r_area  \\\n",
              "compact      1.000000e+00 -9.919015e-01 -2.037817e-01 -8.688234e-01   \n",
              "s_area      -9.919015e-01  1.000000e+00  1.955016e-01  8.807195e-01   \n",
              "w_area      -2.037817e-01  1.955016e-01  1.000000e+00 -2.923165e-01   \n",
              "r_area      -8.688234e-01  8.807195e-01 -2.923165e-01  1.000000e+00   \n",
              "height       8.277473e-01 -8.581477e-01  2.809757e-01 -9.725122e-01   \n",
              "orient       0.000000e+00  0.000000e+00  0.000000e+00  0.000000e+00   \n",
              "g_area       1.283986e-17  1.318356e-16 -7.969726e-19 -1.381805e-16   \n",
              "g_area_dist  1.764620e-17 -3.558613e-16  0.000000e+00 -1.079129e-16   \n",
              "heat_load    6.222719e-01 -6.581199e-01  4.556714e-01 -8.618281e-01   \n",
              "cool_load    6.343391e-01 -6.729989e-01  4.271170e-01 -8.625466e-01   \n",
              "\n",
              "                   height    orient        g_area   g_area_dist  heat_load  \\\n",
              "compact      8.277473e-01  0.000000  1.283986e-17  1.764620e-17   0.622272   \n",
              "s_area      -8.581477e-01  0.000000  1.318356e-16 -3.558613e-16  -0.658120   \n",
              "w_area       2.809757e-01  0.000000 -7.969726e-19  0.000000e+00   0.455671   \n",
              "r_area      -9.725122e-01  0.000000 -1.381805e-16 -1.079129e-16  -0.861828   \n",
              "height       1.000000e+00  0.000000  1.861418e-18  0.000000e+00   0.889430   \n",
              "orient       0.000000e+00  1.000000  0.000000e+00  0.000000e+00  -0.002587   \n",
              "g_area       1.861418e-18  0.000000  1.000000e+00  2.129642e-01   0.269842   \n",
              "g_area_dist  0.000000e+00  0.000000  2.129642e-01  1.000000e+00   0.087368   \n",
              "heat_load    8.894305e-01 -0.002587  2.698417e-01  8.736846e-02   1.000000   \n",
              "cool_load    8.957852e-01  0.014290  2.075050e-01  5.052512e-02   0.975862   \n",
              "\n",
              "             cool_load  \n",
              "compact       0.634339  \n",
              "s_area       -0.672999  \n",
              "w_area        0.427117  \n",
              "r_area       -0.862547  \n",
              "height        0.895785  \n",
              "orient        0.014290  \n",
              "g_area        0.207505  \n",
              "g_area_dist   0.050525  \n",
              "heat_load     0.975862  \n",
              "cool_load     1.000000  "
            ]
          },
          "execution_count": 47,
          "metadata": {},
          "output_type": "execute_result"
        }
      ]
    },
    {
      "cell_type": "code",
      "metadata": {
        "id": "w_yQtApM_Ojf",
        "outputId": "e0ff8b24-e9ef-47ba-a491-74c3471892b3"
      },
      "source": [
        "x1 = df.iloc[:,[0,2,4,6,7]]\n",
        "y1 = df.iloc[:,-2]\n",
        "print(x1.shape)\n",
        "print(y1.shape)"
      ],
      "execution_count": null,
      "outputs": [
        {
          "name": "stdout",
          "output_type": "stream",
          "text": [
            "(768, 5)\n",
            "(768,)\n"
          ]
        }
      ]
    },
    {
      "cell_type": "code",
      "metadata": {
        "id": "HAgiKO4v_Ojf",
        "outputId": "cee2551a-8df3-4d41-db23-f93f8b2f2408"
      },
      "source": [
        "x1.head(2)"
      ],
      "execution_count": null,
      "outputs": [
        {
          "data": {
            "text/html": [
              "<div>\n",
              "<style scoped>\n",
              "    .dataframe tbody tr th:only-of-type {\n",
              "        vertical-align: middle;\n",
              "    }\n",
              "\n",
              "    .dataframe tbody tr th {\n",
              "        vertical-align: top;\n",
              "    }\n",
              "\n",
              "    .dataframe thead th {\n",
              "        text-align: right;\n",
              "    }\n",
              "</style>\n",
              "<table border=\"1\" class=\"dataframe\">\n",
              "  <thead>\n",
              "    <tr style=\"text-align: right;\">\n",
              "      <th></th>\n",
              "      <th>compact</th>\n",
              "      <th>w_area</th>\n",
              "      <th>height</th>\n",
              "      <th>g_area</th>\n",
              "      <th>g_area_dist</th>\n",
              "    </tr>\n",
              "  </thead>\n",
              "  <tbody>\n",
              "    <tr>\n",
              "      <th>0</th>\n",
              "      <td>0.98</td>\n",
              "      <td>294.0</td>\n",
              "      <td>7.0</td>\n",
              "      <td>0.0</td>\n",
              "      <td>0</td>\n",
              "    </tr>\n",
              "    <tr>\n",
              "      <th>1</th>\n",
              "      <td>0.98</td>\n",
              "      <td>294.0</td>\n",
              "      <td>7.0</td>\n",
              "      <td>0.0</td>\n",
              "      <td>0</td>\n",
              "    </tr>\n",
              "  </tbody>\n",
              "</table>\n",
              "</div>"
            ],
            "text/plain": [
              "   compact  w_area  height  g_area  g_area_dist\n",
              "0     0.98   294.0     7.0     0.0            0\n",
              "1     0.98   294.0     7.0     0.0            0"
            ]
          },
          "execution_count": 59,
          "metadata": {},
          "output_type": "execute_result"
        }
      ]
    },
    {
      "cell_type": "code",
      "metadata": {
        "id": "mpNibw2c_Ojf",
        "outputId": "9838a6e8-1d30-459d-a6e2-cdf2b8e88929"
      },
      "source": [
        "from sklearn.model_selection import train_test_split\n",
        "x_train,x_test,y_train,y_test = train_test_split(x1,y1,test_size=0.25)\n",
        "print(x_train.shape)\n",
        "print(x_test.shape)\n",
        "print(y_train.shape)\n",
        "print(y_test.shape)"
      ],
      "execution_count": null,
      "outputs": [
        {
          "name": "stdout",
          "output_type": "stream",
          "text": [
            "(576, 5)\n",
            "(192, 5)\n",
            "(576,)\n",
            "(192,)\n"
          ]
        }
      ]
    },
    {
      "cell_type": "code",
      "metadata": {
        "id": "G_BKI8hr_Ojg",
        "outputId": "a3bce610-4e3a-4304-da6b-7c2a55dcf94c"
      },
      "source": [
        "reg_heat = LinearRegression()\n",
        "reg_heat.fit(x_train,y_train)"
      ],
      "execution_count": null,
      "outputs": [
        {
          "data": {
            "text/plain": [
              "LinearRegression()"
            ]
          },
          "execution_count": 61,
          "metadata": {},
          "output_type": "execute_result"
        }
      ]
    },
    {
      "cell_type": "code",
      "metadata": {
        "id": "DS_WmC2S_Ojg",
        "outputId": "448ee41e-179a-47f3-984a-15c0805d5700"
      },
      "source": [
        "print(reg_heat.score(x_train,y_train))\n",
        "print(reg_heat.score(x_test,y_test))"
      ],
      "execution_count": null,
      "outputs": [
        {
          "name": "stdout",
          "output_type": "stream",
          "text": [
            "0.9164778316348885\n",
            "0.9025093296656446\n"
          ]
        }
      ]
    },
    {
      "cell_type": "code",
      "metadata": {
        "id": "_l-o778P_Ojg"
      },
      "source": [
        "y_pred_heat = reg_heat.predict(x_test)\n",
        "# y_pred_heat"
      ],
      "execution_count": null,
      "outputs": []
    },
    {
      "cell_type": "code",
      "metadata": {
        "id": "wCFkIrfQ_Ojg",
        "outputId": "76412c9a-c93b-4f4e-e703-f318cdf41573"
      },
      "source": [
        "# print(reg_heat.coef_)\n",
        "a = reg_heat.coef_\n",
        "print(a)\n",
        "print(reg_heat.intercept_)"
      ],
      "execution_count": null,
      "outputs": [
        {
          "name": "stdout",
          "output_type": "stream",
          "text": [
            "[-13.19425864   0.03530392   5.54453579  19.11495515   0.18754119]\n",
            "-12.917454151730887\n"
          ]
        }
      ]
    },
    {
      "cell_type": "code",
      "metadata": {
        "id": "LWbCt9ke_Ojh",
        "outputId": "cfdf00c9-80c6-4589-d32c-6316f65cd91f"
      },
      "source": [
        "x_test['y_test'] = y_test\n",
        "x_test['y_pred'] = y_pred_heat\n",
        "x_test.head()"
      ],
      "execution_count": null,
      "outputs": [
        {
          "name": "stderr",
          "output_type": "stream",
          "text": [
            "E:\\Users\\lenovo\\Anaconda3\\lib\\site-packages\\ipykernel_launcher.py:1: SettingWithCopyWarning: \n",
            "A value is trying to be set on a copy of a slice from a DataFrame.\n",
            "Try using .loc[row_indexer,col_indexer] = value instead\n",
            "\n",
            "See the caveats in the documentation: https://pandas.pydata.org/pandas-docs/stable/user_guide/indexing.html#returning-a-view-versus-a-copy\n",
            "  \"\"\"Entry point for launching an IPython kernel.\n",
            "E:\\Users\\lenovo\\Anaconda3\\lib\\site-packages\\ipykernel_launcher.py:2: SettingWithCopyWarning: \n",
            "A value is trying to be set on a copy of a slice from a DataFrame.\n",
            "Try using .loc[row_indexer,col_indexer] = value instead\n",
            "\n",
            "See the caveats in the documentation: https://pandas.pydata.org/pandas-docs/stable/user_guide/indexing.html#returning-a-view-versus-a-copy\n",
            "  \n"
          ]
        },
        {
          "data": {
            "text/html": [
              "<div>\n",
              "<style scoped>\n",
              "    .dataframe tbody tr th:only-of-type {\n",
              "        vertical-align: middle;\n",
              "    }\n",
              "\n",
              "    .dataframe tbody tr th {\n",
              "        vertical-align: top;\n",
              "    }\n",
              "\n",
              "    .dataframe thead th {\n",
              "        text-align: right;\n",
              "    }\n",
              "</style>\n",
              "<table border=\"1\" class=\"dataframe\">\n",
              "  <thead>\n",
              "    <tr style=\"text-align: right;\">\n",
              "      <th></th>\n",
              "      <th>compact</th>\n",
              "      <th>w_area</th>\n",
              "      <th>height</th>\n",
              "      <th>g_area</th>\n",
              "      <th>g_area_dist</th>\n",
              "      <th>y_test</th>\n",
              "      <th>y_pred</th>\n",
              "    </tr>\n",
              "  </thead>\n",
              "  <tbody>\n",
              "    <tr>\n",
              "      <th>516</th>\n",
              "      <td>0.66</td>\n",
              "      <td>318.5</td>\n",
              "      <td>3.5</td>\n",
              "      <td>0.25</td>\n",
              "      <td>5</td>\n",
              "      <td>12.93</td>\n",
              "      <td>14.740955</td>\n",
              "    </tr>\n",
              "    <tr>\n",
              "      <th>427</th>\n",
              "      <td>0.64</td>\n",
              "      <td>343.0</td>\n",
              "      <td>3.5</td>\n",
              "      <td>0.25</td>\n",
              "      <td>3</td>\n",
              "      <td>16.86</td>\n",
              "      <td>15.494704</td>\n",
              "    </tr>\n",
              "    <tr>\n",
              "      <th>429</th>\n",
              "      <td>0.62</td>\n",
              "      <td>367.5</td>\n",
              "      <td>3.5</td>\n",
              "      <td>0.25</td>\n",
              "      <td>3</td>\n",
              "      <td>14.34</td>\n",
              "      <td>16.623535</td>\n",
              "    </tr>\n",
              "    <tr>\n",
              "      <th>104</th>\n",
              "      <td>0.86</td>\n",
              "      <td>294.0</td>\n",
              "      <td>7.0</td>\n",
              "      <td>0.10</td>\n",
              "      <td>2</td>\n",
              "      <td>26.48</td>\n",
              "      <td>27.213165</td>\n",
              "    </tr>\n",
              "    <tr>\n",
              "      <th>736</th>\n",
              "      <td>0.79</td>\n",
              "      <td>343.0</td>\n",
              "      <td>7.0</td>\n",
              "      <td>0.40</td>\n",
              "      <td>5</td>\n",
              "      <td>42.11</td>\n",
              "      <td>36.163766</td>\n",
              "    </tr>\n",
              "  </tbody>\n",
              "</table>\n",
              "</div>"
            ],
            "text/plain": [
              "     compact  w_area  height  g_area  g_area_dist  y_test     y_pred\n",
              "516     0.66   318.5     3.5    0.25            5   12.93  14.740955\n",
              "427     0.64   343.0     3.5    0.25            3   16.86  15.494704\n",
              "429     0.62   367.5     3.5    0.25            3   14.34  16.623535\n",
              "104     0.86   294.0     7.0    0.10            2   26.48  27.213165\n",
              "736     0.79   343.0     7.0    0.40            5   42.11  36.163766"
            ]
          },
          "execution_count": 66,
          "metadata": {},
          "output_type": "execute_result"
        }
      ]
    },
    {
      "cell_type": "code",
      "metadata": {
        "id": "huVfbmsY_Ojh",
        "outputId": "8c45aa99-35fe-45ff-9952-affcf6771630"
      },
      "source": [
        "print(a) # reg_heat.coef_"
      ],
      "execution_count": null,
      "outputs": [
        {
          "name": "stdout",
          "output_type": "stream",
          "text": [
            "[-13.19425864   0.03530392   5.54453579  19.11495515   0.18754119]\n"
          ]
        }
      ]
    },
    {
      "cell_type": "code",
      "metadata": {
        "id": "ErH-diiq_Ojh",
        "outputId": "2cf1d19e-ccd0-4bd0-985f-b9495814a6b1"
      },
      "source": [
        "### Eqn \n",
        "x_test['HeatLoad_pred_eqn'] = x_test['compact']*a[0] + \\\n",
        "                x_test['w_area']*a[1] + x_test['height']*a[2] + \\\n",
        "                x_test['g_area']*a[3] + x_test['g_area_dist']*a[4] +\\\n",
        "                reg_heat.intercept_\n",
        "x_test.head()"
      ],
      "execution_count": null,
      "outputs": [
        {
          "name": "stderr",
          "output_type": "stream",
          "text": [
            "E:\\Users\\lenovo\\Anaconda3\\lib\\site-packages\\ipykernel_launcher.py:5: SettingWithCopyWarning: \n",
            "A value is trying to be set on a copy of a slice from a DataFrame.\n",
            "Try using .loc[row_indexer,col_indexer] = value instead\n",
            "\n",
            "See the caveats in the documentation: https://pandas.pydata.org/pandas-docs/stable/user_guide/indexing.html#returning-a-view-versus-a-copy\n",
            "  \"\"\"\n"
          ]
        },
        {
          "data": {
            "text/html": [
              "<div>\n",
              "<style scoped>\n",
              "    .dataframe tbody tr th:only-of-type {\n",
              "        vertical-align: middle;\n",
              "    }\n",
              "\n",
              "    .dataframe tbody tr th {\n",
              "        vertical-align: top;\n",
              "    }\n",
              "\n",
              "    .dataframe thead th {\n",
              "        text-align: right;\n",
              "    }\n",
              "</style>\n",
              "<table border=\"1\" class=\"dataframe\">\n",
              "  <thead>\n",
              "    <tr style=\"text-align: right;\">\n",
              "      <th></th>\n",
              "      <th>compact</th>\n",
              "      <th>w_area</th>\n",
              "      <th>height</th>\n",
              "      <th>g_area</th>\n",
              "      <th>g_area_dist</th>\n",
              "      <th>y_test</th>\n",
              "      <th>y_pred</th>\n",
              "      <th>HeatLoad_pred_eqn</th>\n",
              "    </tr>\n",
              "  </thead>\n",
              "  <tbody>\n",
              "    <tr>\n",
              "      <th>516</th>\n",
              "      <td>0.66</td>\n",
              "      <td>318.5</td>\n",
              "      <td>3.5</td>\n",
              "      <td>0.25</td>\n",
              "      <td>5</td>\n",
              "      <td>12.93</td>\n",
              "      <td>14.740955</td>\n",
              "      <td>14.740955</td>\n",
              "    </tr>\n",
              "    <tr>\n",
              "      <th>427</th>\n",
              "      <td>0.64</td>\n",
              "      <td>343.0</td>\n",
              "      <td>3.5</td>\n",
              "      <td>0.25</td>\n",
              "      <td>3</td>\n",
              "      <td>16.86</td>\n",
              "      <td>15.494704</td>\n",
              "      <td>15.494704</td>\n",
              "    </tr>\n",
              "    <tr>\n",
              "      <th>429</th>\n",
              "      <td>0.62</td>\n",
              "      <td>367.5</td>\n",
              "      <td>3.5</td>\n",
              "      <td>0.25</td>\n",
              "      <td>3</td>\n",
              "      <td>14.34</td>\n",
              "      <td>16.623535</td>\n",
              "      <td>16.623535</td>\n",
              "    </tr>\n",
              "    <tr>\n",
              "      <th>104</th>\n",
              "      <td>0.86</td>\n",
              "      <td>294.0</td>\n",
              "      <td>7.0</td>\n",
              "      <td>0.10</td>\n",
              "      <td>2</td>\n",
              "      <td>26.48</td>\n",
              "      <td>27.213165</td>\n",
              "      <td>27.213165</td>\n",
              "    </tr>\n",
              "    <tr>\n",
              "      <th>736</th>\n",
              "      <td>0.79</td>\n",
              "      <td>343.0</td>\n",
              "      <td>7.0</td>\n",
              "      <td>0.40</td>\n",
              "      <td>5</td>\n",
              "      <td>42.11</td>\n",
              "      <td>36.163766</td>\n",
              "      <td>36.163766</td>\n",
              "    </tr>\n",
              "  </tbody>\n",
              "</table>\n",
              "</div>"
            ],
            "text/plain": [
              "     compact  w_area  height  g_area  g_area_dist  y_test     y_pred  \\\n",
              "516     0.66   318.5     3.5    0.25            5   12.93  14.740955   \n",
              "427     0.64   343.0     3.5    0.25            3   16.86  15.494704   \n",
              "429     0.62   367.5     3.5    0.25            3   14.34  16.623535   \n",
              "104     0.86   294.0     7.0    0.10            2   26.48  27.213165   \n",
              "736     0.79   343.0     7.0    0.40            5   42.11  36.163766   \n",
              "\n",
              "     HeatLoad_pred_eqn  \n",
              "516          14.740955  \n",
              "427          15.494704  \n",
              "429          16.623535  \n",
              "104          27.213165  \n",
              "736          36.163766  "
            ]
          },
          "execution_count": 69,
          "metadata": {},
          "output_type": "execute_result"
        }
      ]
    },
    {
      "cell_type": "code",
      "metadata": {
        "id": "40HXTGFH_Ojh",
        "outputId": "bfb154c8-cb67-462a-b837-8c8b601d5504"
      },
      "source": [
        "mse = mean_squared_error(y_test,y_pred_heat)\n",
        "mae = mean_absolute_error(y_test,y_pred_heat)\n",
        "rmse = mse**0.5\n",
        "print('MSE',mse)\n",
        "print('MAE',mae)\n",
        "print('RMSE',rmse)"
      ],
      "execution_count": null,
      "outputs": [
        {
          "name": "stdout",
          "output_type": "stream",
          "text": [
            "MSE 9.667731142376889\n",
            "MAE 2.1991537205409544\n",
            "RMSE 3.109297531979995\n"
          ]
        }
      ]
    },
    {
      "cell_type": "markdown",
      "metadata": {
        "id": "5C7dph_a_Oji"
      },
      "source": [
        "#### Predicting cooling load"
      ]
    },
    {
      "cell_type": "code",
      "metadata": {
        "id": "zWIg39w3_Oji",
        "outputId": "7db42ff1-e465-4a03-c58d-1e4782875e56"
      },
      "source": [
        "df.corr()"
      ],
      "execution_count": null,
      "outputs": [
        {
          "data": {
            "text/html": [
              "<div>\n",
              "<style scoped>\n",
              "    .dataframe tbody tr th:only-of-type {\n",
              "        vertical-align: middle;\n",
              "    }\n",
              "\n",
              "    .dataframe tbody tr th {\n",
              "        vertical-align: top;\n",
              "    }\n",
              "\n",
              "    .dataframe thead th {\n",
              "        text-align: right;\n",
              "    }\n",
              "</style>\n",
              "<table border=\"1\" class=\"dataframe\">\n",
              "  <thead>\n",
              "    <tr style=\"text-align: right;\">\n",
              "      <th></th>\n",
              "      <th>compact</th>\n",
              "      <th>s_area</th>\n",
              "      <th>w_area</th>\n",
              "      <th>r_area</th>\n",
              "      <th>height</th>\n",
              "      <th>orient</th>\n",
              "      <th>g_area</th>\n",
              "      <th>g_area_dist</th>\n",
              "      <th>heat_load</th>\n",
              "      <th>cool_load</th>\n",
              "    </tr>\n",
              "  </thead>\n",
              "  <tbody>\n",
              "    <tr>\n",
              "      <th>compact</th>\n",
              "      <td>1.000000e+00</td>\n",
              "      <td>-9.919015e-01</td>\n",
              "      <td>-2.037817e-01</td>\n",
              "      <td>-8.688234e-01</td>\n",
              "      <td>8.277473e-01</td>\n",
              "      <td>0.000000</td>\n",
              "      <td>1.283986e-17</td>\n",
              "      <td>1.764620e-17</td>\n",
              "      <td>0.622272</td>\n",
              "      <td>0.634339</td>\n",
              "    </tr>\n",
              "    <tr>\n",
              "      <th>s_area</th>\n",
              "      <td>-9.919015e-01</td>\n",
              "      <td>1.000000e+00</td>\n",
              "      <td>1.955016e-01</td>\n",
              "      <td>8.807195e-01</td>\n",
              "      <td>-8.581477e-01</td>\n",
              "      <td>0.000000</td>\n",
              "      <td>1.318356e-16</td>\n",
              "      <td>-3.558613e-16</td>\n",
              "      <td>-0.658120</td>\n",
              "      <td>-0.672999</td>\n",
              "    </tr>\n",
              "    <tr>\n",
              "      <th>w_area</th>\n",
              "      <td>-2.037817e-01</td>\n",
              "      <td>1.955016e-01</td>\n",
              "      <td>1.000000e+00</td>\n",
              "      <td>-2.923165e-01</td>\n",
              "      <td>2.809757e-01</td>\n",
              "      <td>0.000000</td>\n",
              "      <td>-7.969726e-19</td>\n",
              "      <td>0.000000e+00</td>\n",
              "      <td>0.455671</td>\n",
              "      <td>0.427117</td>\n",
              "    </tr>\n",
              "    <tr>\n",
              "      <th>r_area</th>\n",
              "      <td>-8.688234e-01</td>\n",
              "      <td>8.807195e-01</td>\n",
              "      <td>-2.923165e-01</td>\n",
              "      <td>1.000000e+00</td>\n",
              "      <td>-9.725122e-01</td>\n",
              "      <td>0.000000</td>\n",
              "      <td>-1.381805e-16</td>\n",
              "      <td>-1.079129e-16</td>\n",
              "      <td>-0.861828</td>\n",
              "      <td>-0.862547</td>\n",
              "    </tr>\n",
              "    <tr>\n",
              "      <th>height</th>\n",
              "      <td>8.277473e-01</td>\n",
              "      <td>-8.581477e-01</td>\n",
              "      <td>2.809757e-01</td>\n",
              "      <td>-9.725122e-01</td>\n",
              "      <td>1.000000e+00</td>\n",
              "      <td>0.000000</td>\n",
              "      <td>1.861418e-18</td>\n",
              "      <td>0.000000e+00</td>\n",
              "      <td>0.889430</td>\n",
              "      <td>0.895785</td>\n",
              "    </tr>\n",
              "    <tr>\n",
              "      <th>orient</th>\n",
              "      <td>0.000000e+00</td>\n",
              "      <td>0.000000e+00</td>\n",
              "      <td>0.000000e+00</td>\n",
              "      <td>0.000000e+00</td>\n",
              "      <td>0.000000e+00</td>\n",
              "      <td>1.000000</td>\n",
              "      <td>0.000000e+00</td>\n",
              "      <td>0.000000e+00</td>\n",
              "      <td>-0.002587</td>\n",
              "      <td>0.014290</td>\n",
              "    </tr>\n",
              "    <tr>\n",
              "      <th>g_area</th>\n",
              "      <td>1.283986e-17</td>\n",
              "      <td>1.318356e-16</td>\n",
              "      <td>-7.969726e-19</td>\n",
              "      <td>-1.381805e-16</td>\n",
              "      <td>1.861418e-18</td>\n",
              "      <td>0.000000</td>\n",
              "      <td>1.000000e+00</td>\n",
              "      <td>2.129642e-01</td>\n",
              "      <td>0.269842</td>\n",
              "      <td>0.207505</td>\n",
              "    </tr>\n",
              "    <tr>\n",
              "      <th>g_area_dist</th>\n",
              "      <td>1.764620e-17</td>\n",
              "      <td>-3.558613e-16</td>\n",
              "      <td>0.000000e+00</td>\n",
              "      <td>-1.079129e-16</td>\n",
              "      <td>0.000000e+00</td>\n",
              "      <td>0.000000</td>\n",
              "      <td>2.129642e-01</td>\n",
              "      <td>1.000000e+00</td>\n",
              "      <td>0.087368</td>\n",
              "      <td>0.050525</td>\n",
              "    </tr>\n",
              "    <tr>\n",
              "      <th>heat_load</th>\n",
              "      <td>6.222719e-01</td>\n",
              "      <td>-6.581199e-01</td>\n",
              "      <td>4.556714e-01</td>\n",
              "      <td>-8.618281e-01</td>\n",
              "      <td>8.894305e-01</td>\n",
              "      <td>-0.002587</td>\n",
              "      <td>2.698417e-01</td>\n",
              "      <td>8.736846e-02</td>\n",
              "      <td>1.000000</td>\n",
              "      <td>0.975862</td>\n",
              "    </tr>\n",
              "    <tr>\n",
              "      <th>cool_load</th>\n",
              "      <td>6.343391e-01</td>\n",
              "      <td>-6.729989e-01</td>\n",
              "      <td>4.271170e-01</td>\n",
              "      <td>-8.625466e-01</td>\n",
              "      <td>8.957852e-01</td>\n",
              "      <td>0.014290</td>\n",
              "      <td>2.075050e-01</td>\n",
              "      <td>5.052512e-02</td>\n",
              "      <td>0.975862</td>\n",
              "      <td>1.000000</td>\n",
              "    </tr>\n",
              "  </tbody>\n",
              "</table>\n",
              "</div>"
            ],
            "text/plain": [
              "                  compact        s_area        w_area        r_area  \\\n",
              "compact      1.000000e+00 -9.919015e-01 -2.037817e-01 -8.688234e-01   \n",
              "s_area      -9.919015e-01  1.000000e+00  1.955016e-01  8.807195e-01   \n",
              "w_area      -2.037817e-01  1.955016e-01  1.000000e+00 -2.923165e-01   \n",
              "r_area      -8.688234e-01  8.807195e-01 -2.923165e-01  1.000000e+00   \n",
              "height       8.277473e-01 -8.581477e-01  2.809757e-01 -9.725122e-01   \n",
              "orient       0.000000e+00  0.000000e+00  0.000000e+00  0.000000e+00   \n",
              "g_area       1.283986e-17  1.318356e-16 -7.969726e-19 -1.381805e-16   \n",
              "g_area_dist  1.764620e-17 -3.558613e-16  0.000000e+00 -1.079129e-16   \n",
              "heat_load    6.222719e-01 -6.581199e-01  4.556714e-01 -8.618281e-01   \n",
              "cool_load    6.343391e-01 -6.729989e-01  4.271170e-01 -8.625466e-01   \n",
              "\n",
              "                   height    orient        g_area   g_area_dist  heat_load  \\\n",
              "compact      8.277473e-01  0.000000  1.283986e-17  1.764620e-17   0.622272   \n",
              "s_area      -8.581477e-01  0.000000  1.318356e-16 -3.558613e-16  -0.658120   \n",
              "w_area       2.809757e-01  0.000000 -7.969726e-19  0.000000e+00   0.455671   \n",
              "r_area      -9.725122e-01  0.000000 -1.381805e-16 -1.079129e-16  -0.861828   \n",
              "height       1.000000e+00  0.000000  1.861418e-18  0.000000e+00   0.889430   \n",
              "orient       0.000000e+00  1.000000  0.000000e+00  0.000000e+00  -0.002587   \n",
              "g_area       1.861418e-18  0.000000  1.000000e+00  2.129642e-01   0.269842   \n",
              "g_area_dist  0.000000e+00  0.000000  2.129642e-01  1.000000e+00   0.087368   \n",
              "heat_load    8.894305e-01 -0.002587  2.698417e-01  8.736846e-02   1.000000   \n",
              "cool_load    8.957852e-01  0.014290  2.075050e-01  5.052512e-02   0.975862   \n",
              "\n",
              "             cool_load  \n",
              "compact       0.634339  \n",
              "s_area       -0.672999  \n",
              "w_area        0.427117  \n",
              "r_area       -0.862547  \n",
              "height        0.895785  \n",
              "orient        0.014290  \n",
              "g_area        0.207505  \n",
              "g_area_dist   0.050525  \n",
              "heat_load     0.975862  \n",
              "cool_load     1.000000  "
            ]
          },
          "execution_count": 71,
          "metadata": {},
          "output_type": "execute_result"
        }
      ]
    },
    {
      "cell_type": "code",
      "metadata": {
        "id": "enFn2dwH_Ojj",
        "outputId": "5449cc61-a35c-4271-d1c6-10f65c08fdbb"
      },
      "source": [
        "x2 = df.iloc[:,[0,2,4,5,6,7]]\n",
        "y2 = df.iloc[:,-1]\n",
        "print(x2.shape)\n",
        "print(y2.shape)"
      ],
      "execution_count": null,
      "outputs": [
        {
          "name": "stdout",
          "output_type": "stream",
          "text": [
            "(768, 6)\n",
            "(768,)\n"
          ]
        }
      ]
    },
    {
      "cell_type": "code",
      "metadata": {
        "id": "nEi9DOYh_Ojj",
        "outputId": "dac18851-4c91-4401-f1e7-81d3bfc1d680"
      },
      "source": [
        "x2.head(2)"
      ],
      "execution_count": null,
      "outputs": [
        {
          "data": {
            "text/html": [
              "<div>\n",
              "<style scoped>\n",
              "    .dataframe tbody tr th:only-of-type {\n",
              "        vertical-align: middle;\n",
              "    }\n",
              "\n",
              "    .dataframe tbody tr th {\n",
              "        vertical-align: top;\n",
              "    }\n",
              "\n",
              "    .dataframe thead th {\n",
              "        text-align: right;\n",
              "    }\n",
              "</style>\n",
              "<table border=\"1\" class=\"dataframe\">\n",
              "  <thead>\n",
              "    <tr style=\"text-align: right;\">\n",
              "      <th></th>\n",
              "      <th>compact</th>\n",
              "      <th>w_area</th>\n",
              "      <th>height</th>\n",
              "      <th>orient</th>\n",
              "      <th>g_area</th>\n",
              "      <th>g_area_dist</th>\n",
              "    </tr>\n",
              "  </thead>\n",
              "  <tbody>\n",
              "    <tr>\n",
              "      <th>0</th>\n",
              "      <td>0.98</td>\n",
              "      <td>294.0</td>\n",
              "      <td>7.0</td>\n",
              "      <td>2</td>\n",
              "      <td>0.0</td>\n",
              "      <td>0</td>\n",
              "    </tr>\n",
              "    <tr>\n",
              "      <th>1</th>\n",
              "      <td>0.98</td>\n",
              "      <td>294.0</td>\n",
              "      <td>7.0</td>\n",
              "      <td>3</td>\n",
              "      <td>0.0</td>\n",
              "      <td>0</td>\n",
              "    </tr>\n",
              "  </tbody>\n",
              "</table>\n",
              "</div>"
            ],
            "text/plain": [
              "   compact  w_area  height  orient  g_area  g_area_dist\n",
              "0     0.98   294.0     7.0       2     0.0            0\n",
              "1     0.98   294.0     7.0       3     0.0            0"
            ]
          },
          "execution_count": 78,
          "metadata": {},
          "output_type": "execute_result"
        }
      ]
    },
    {
      "cell_type": "code",
      "metadata": {
        "id": "gYtxj4ja_Ojj",
        "outputId": "27221b5d-8be6-4955-c951-b1f5650f95ea"
      },
      "source": [
        "from sklearn.model_selection import train_test_split\n",
        "x_train,x_test,y_train,y_test = train_test_split(x2,y2,test_size=0.25)\n",
        "print(x_train.shape)\n",
        "print(x_test.shape)\n",
        "print(y_train.shape)\n",
        "print(y_test.shape)"
      ],
      "execution_count": null,
      "outputs": [
        {
          "name": "stdout",
          "output_type": "stream",
          "text": [
            "(576, 6)\n",
            "(192, 6)\n",
            "(576,)\n",
            "(192,)\n"
          ]
        }
      ]
    },
    {
      "cell_type": "code",
      "metadata": {
        "id": "69f1woOz_Ojk",
        "outputId": "03e23cc6-0fe3-444d-bf4d-ba50209953eb"
      },
      "source": [
        "reg_cool = LinearRegression()\n",
        "reg_cool.fit(x_train,y_train)"
      ],
      "execution_count": null,
      "outputs": [
        {
          "data": {
            "text/plain": [
              "LinearRegression()"
            ]
          },
          "execution_count": 83,
          "metadata": {},
          "output_type": "execute_result"
        }
      ]
    },
    {
      "cell_type": "code",
      "metadata": {
        "id": "f_tu8GPV_Ojk",
        "outputId": "00b1f2ff-ce56-464c-899d-a901e3e44f7d"
      },
      "source": [
        "print(reg_cool.score(x_train,y_train))\n",
        "print(reg_cool.score(x_test,y_test))\n"
      ],
      "execution_count": null,
      "outputs": [
        {
          "name": "stdout",
          "output_type": "stream",
          "text": [
            "0.8839097166718051\n",
            "0.8840867110562004\n"
          ]
        }
      ]
    },
    {
      "cell_type": "code",
      "metadata": {
        "id": "syN6MU2V_Ojk"
      },
      "source": [
        "y_pred_cool = reg_cool.predict(x_test)"
      ],
      "execution_count": null,
      "outputs": []
    },
    {
      "cell_type": "code",
      "metadata": {
        "id": "e9u2omaH_Ojk",
        "outputId": "eed8a60a-5e4a-4468-c3f0-ca720e2a3b44"
      },
      "source": [
        "coef = reg_cool.coef_\n",
        "intercept = reg_cool.intercept_\n",
        "print(coef)\n",
        "print(intercept)"
      ],
      "execution_count": null,
      "outputs": [
        {
          "name": "stdout",
          "output_type": "stream",
          "text": [
            "[-15.75991271   0.02253102   5.45155973   0.03378287  14.51379377\n",
            "   0.07007549]\n",
            "-2.942683976308558\n"
          ]
        }
      ]
    },
    {
      "cell_type": "code",
      "metadata": {
        "id": "Hw9z3rrb_Ojk",
        "outputId": "5d7c8ab3-5c92-49f8-adbf-a92d34ad7a85"
      },
      "source": [
        "x_test['y_test'] = y_test\n",
        "x_test['y_pred'] = y_pred_cool\n",
        "x_test.head()"
      ],
      "execution_count": null,
      "outputs": [
        {
          "name": "stderr",
          "output_type": "stream",
          "text": [
            "E:\\Users\\lenovo\\Anaconda3\\lib\\site-packages\\ipykernel_launcher.py:1: SettingWithCopyWarning: \n",
            "A value is trying to be set on a copy of a slice from a DataFrame.\n",
            "Try using .loc[row_indexer,col_indexer] = value instead\n",
            "\n",
            "See the caveats in the documentation: https://pandas.pydata.org/pandas-docs/stable/user_guide/indexing.html#returning-a-view-versus-a-copy\n",
            "  \"\"\"Entry point for launching an IPython kernel.\n",
            "E:\\Users\\lenovo\\Anaconda3\\lib\\site-packages\\ipykernel_launcher.py:2: SettingWithCopyWarning: \n",
            "A value is trying to be set on a copy of a slice from a DataFrame.\n",
            "Try using .loc[row_indexer,col_indexer] = value instead\n",
            "\n",
            "See the caveats in the documentation: https://pandas.pydata.org/pandas-docs/stable/user_guide/indexing.html#returning-a-view-versus-a-copy\n",
            "  \n"
          ]
        },
        {
          "data": {
            "text/html": [
              "<div>\n",
              "<style scoped>\n",
              "    .dataframe tbody tr th:only-of-type {\n",
              "        vertical-align: middle;\n",
              "    }\n",
              "\n",
              "    .dataframe tbody tr th {\n",
              "        vertical-align: top;\n",
              "    }\n",
              "\n",
              "    .dataframe thead th {\n",
              "        text-align: right;\n",
              "    }\n",
              "</style>\n",
              "<table border=\"1\" class=\"dataframe\">\n",
              "  <thead>\n",
              "    <tr style=\"text-align: right;\">\n",
              "      <th></th>\n",
              "      <th>compact</th>\n",
              "      <th>w_area</th>\n",
              "      <th>height</th>\n",
              "      <th>orient</th>\n",
              "      <th>g_area</th>\n",
              "      <th>g_area_dist</th>\n",
              "      <th>y_test</th>\n",
              "      <th>y_pred</th>\n",
              "    </tr>\n",
              "  </thead>\n",
              "  <tbody>\n",
              "    <tr>\n",
              "      <th>270</th>\n",
              "      <td>0.71</td>\n",
              "      <td>269.5</td>\n",
              "      <td>3.5</td>\n",
              "      <td>4</td>\n",
              "      <td>0.1</td>\n",
              "      <td>5</td>\n",
              "      <td>14.26</td>\n",
              "      <td>12.957235</td>\n",
              "    </tr>\n",
              "    <tr>\n",
              "      <th>574</th>\n",
              "      <td>0.62</td>\n",
              "      <td>367.5</td>\n",
              "      <td>3.5</td>\n",
              "      <td>4</td>\n",
              "      <td>0.4</td>\n",
              "      <td>1</td>\n",
              "      <td>17.15</td>\n",
              "      <td>20.657503</td>\n",
              "    </tr>\n",
              "    <tr>\n",
              "      <th>217</th>\n",
              "      <td>0.74</td>\n",
              "      <td>245.0</td>\n",
              "      <td>3.5</td>\n",
              "      <td>3</td>\n",
              "      <td>0.1</td>\n",
              "      <td>4</td>\n",
              "      <td>13.36</td>\n",
              "      <td>11.828569</td>\n",
              "    </tr>\n",
              "    <tr>\n",
              "      <th>280</th>\n",
              "      <td>0.64</td>\n",
              "      <td>343.0</td>\n",
              "      <td>3.5</td>\n",
              "      <td>2</td>\n",
              "      <td>0.1</td>\n",
              "      <td>5</td>\n",
              "      <td>19.24</td>\n",
              "      <td>15.648893</td>\n",
              "    </tr>\n",
              "    <tr>\n",
              "      <th>727</th>\n",
              "      <td>0.90</td>\n",
              "      <td>318.5</td>\n",
              "      <td>7.0</td>\n",
              "      <td>5</td>\n",
              "      <td>0.4</td>\n",
              "      <td>5</td>\n",
              "      <td>37.27</td>\n",
              "      <td>34.535252</td>\n",
              "    </tr>\n",
              "  </tbody>\n",
              "</table>\n",
              "</div>"
            ],
            "text/plain": [
              "     compact  w_area  height  orient  g_area  g_area_dist  y_test     y_pred\n",
              "270     0.71   269.5     3.5       4     0.1            5   14.26  12.957235\n",
              "574     0.62   367.5     3.5       4     0.4            1   17.15  20.657503\n",
              "217     0.74   245.0     3.5       3     0.1            4   13.36  11.828569\n",
              "280     0.64   343.0     3.5       2     0.1            5   19.24  15.648893\n",
              "727     0.90   318.5     7.0       5     0.4            5   37.27  34.535252"
            ]
          },
          "execution_count": 88,
          "metadata": {},
          "output_type": "execute_result"
        }
      ]
    },
    {
      "cell_type": "code",
      "metadata": {
        "id": "aEfEyLrM_Ojl",
        "outputId": "164934f3-b1bf-417a-e049-5d153564a302"
      },
      "source": [
        "### Eqn \n",
        "x_test['CoolLoad_pred_eqn'] = x_test['compact']*coef[0] + \\\n",
        "                x_test['w_area']*coef[1] + x_test['height']*coef[2] + \\\n",
        "                x_test['orient']*coef[3] + x_test['g_area']*coef[4] + \\\n",
        "                x_test['g_area_dist']*coef[5] + intercept\n",
        "x_test.head()"
      ],
      "execution_count": null,
      "outputs": [
        {
          "name": "stderr",
          "output_type": "stream",
          "text": [
            "E:\\Users\\lenovo\\Anaconda3\\lib\\site-packages\\ipykernel_launcher.py:5: SettingWithCopyWarning: \n",
            "A value is trying to be set on a copy of a slice from a DataFrame.\n",
            "Try using .loc[row_indexer,col_indexer] = value instead\n",
            "\n",
            "See the caveats in the documentation: https://pandas.pydata.org/pandas-docs/stable/user_guide/indexing.html#returning-a-view-versus-a-copy\n",
            "  \"\"\"\n"
          ]
        },
        {
          "data": {
            "text/html": [
              "<div>\n",
              "<style scoped>\n",
              "    .dataframe tbody tr th:only-of-type {\n",
              "        vertical-align: middle;\n",
              "    }\n",
              "\n",
              "    .dataframe tbody tr th {\n",
              "        vertical-align: top;\n",
              "    }\n",
              "\n",
              "    .dataframe thead th {\n",
              "        text-align: right;\n",
              "    }\n",
              "</style>\n",
              "<table border=\"1\" class=\"dataframe\">\n",
              "  <thead>\n",
              "    <tr style=\"text-align: right;\">\n",
              "      <th></th>\n",
              "      <th>compact</th>\n",
              "      <th>w_area</th>\n",
              "      <th>height</th>\n",
              "      <th>orient</th>\n",
              "      <th>g_area</th>\n",
              "      <th>g_area_dist</th>\n",
              "      <th>y_test</th>\n",
              "      <th>y_pred</th>\n",
              "      <th>CoolLoad_pred_eqn</th>\n",
              "    </tr>\n",
              "  </thead>\n",
              "  <tbody>\n",
              "    <tr>\n",
              "      <th>270</th>\n",
              "      <td>0.71</td>\n",
              "      <td>269.5</td>\n",
              "      <td>3.5</td>\n",
              "      <td>4</td>\n",
              "      <td>0.1</td>\n",
              "      <td>5</td>\n",
              "      <td>14.26</td>\n",
              "      <td>12.957235</td>\n",
              "      <td>12.957235</td>\n",
              "    </tr>\n",
              "    <tr>\n",
              "      <th>574</th>\n",
              "      <td>0.62</td>\n",
              "      <td>367.5</td>\n",
              "      <td>3.5</td>\n",
              "      <td>4</td>\n",
              "      <td>0.4</td>\n",
              "      <td>1</td>\n",
              "      <td>17.15</td>\n",
              "      <td>20.657503</td>\n",
              "      <td>20.657503</td>\n",
              "    </tr>\n",
              "    <tr>\n",
              "      <th>217</th>\n",
              "      <td>0.74</td>\n",
              "      <td>245.0</td>\n",
              "      <td>3.5</td>\n",
              "      <td>3</td>\n",
              "      <td>0.1</td>\n",
              "      <td>4</td>\n",
              "      <td>13.36</td>\n",
              "      <td>11.828569</td>\n",
              "      <td>11.828569</td>\n",
              "    </tr>\n",
              "    <tr>\n",
              "      <th>280</th>\n",
              "      <td>0.64</td>\n",
              "      <td>343.0</td>\n",
              "      <td>3.5</td>\n",
              "      <td>2</td>\n",
              "      <td>0.1</td>\n",
              "      <td>5</td>\n",
              "      <td>19.24</td>\n",
              "      <td>15.648893</td>\n",
              "      <td>15.648893</td>\n",
              "    </tr>\n",
              "    <tr>\n",
              "      <th>727</th>\n",
              "      <td>0.90</td>\n",
              "      <td>318.5</td>\n",
              "      <td>7.0</td>\n",
              "      <td>5</td>\n",
              "      <td>0.4</td>\n",
              "      <td>5</td>\n",
              "      <td>37.27</td>\n",
              "      <td>34.535252</td>\n",
              "      <td>34.535252</td>\n",
              "    </tr>\n",
              "  </tbody>\n",
              "</table>\n",
              "</div>"
            ],
            "text/plain": [
              "     compact  w_area  height  orient  g_area  g_area_dist  y_test     y_pred  \\\n",
              "270     0.71   269.5     3.5       4     0.1            5   14.26  12.957235   \n",
              "574     0.62   367.5     3.5       4     0.4            1   17.15  20.657503   \n",
              "217     0.74   245.0     3.5       3     0.1            4   13.36  11.828569   \n",
              "280     0.64   343.0     3.5       2     0.1            5   19.24  15.648893   \n",
              "727     0.90   318.5     7.0       5     0.4            5   37.27  34.535252   \n",
              "\n",
              "     CoolLoad_pred_eqn  \n",
              "270          12.957235  \n",
              "574          20.657503  \n",
              "217          11.828569  \n",
              "280          15.648893  \n",
              "727          34.535252  "
            ]
          },
          "execution_count": 91,
          "metadata": {},
          "output_type": "execute_result"
        }
      ]
    },
    {
      "cell_type": "code",
      "metadata": {
        "id": "bX8kd-Tk_Ojl",
        "outputId": "e1ebc861-4899-47ed-f9bc-0f62bb42f77e"
      },
      "source": [
        "mse = mean_squared_error(y_test,y_pred_cool)\n",
        "mae = mean_absolute_error(y_test,y_pred_cool)\n",
        "rmse = mse**0.5\n",
        "print('MSE',mse)\n",
        "print('MAE',mae)\n",
        "print('RMSE',rmse)"
      ],
      "execution_count": null,
      "outputs": [
        {
          "name": "stdout",
          "output_type": "stream",
          "text": [
            "MSE 11.492016380358132\n",
            "MAE 2.2820044643822546\n",
            "RMSE 3.389987666697053\n"
          ]
        }
      ]
    },
    {
      "cell_type": "code",
      "metadata": {
        "id": "im6CI0sr_Ojl"
      },
      "source": [
        ""
      ],
      "execution_count": null,
      "outputs": []
    }
  ]
}